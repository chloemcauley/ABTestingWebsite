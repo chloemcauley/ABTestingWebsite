{
 "cells": [
  {
   "cell_type": "markdown",
   "metadata": {},
   "source": [
    "## Analyze A/B Test Results\n",
    "\n",
    "This project will assure you have mastered the subjects covered in the statistics lessons.  The hope is to have this project be as comprehensive of these topics as possible.  Good luck!\n",
    "\n",
    "## Table of Contents\n",
    "- [Introduction](#intro)\n",
    "- [Part I - Probability](#probability)\n",
    "- [Part II - A/B Test](#ab_test)\n",
    "- [Part III - Regression](#regression)\n",
    "\n",
    "\n",
    "<a id='intro'></a>\n",
    "### Introduction\n",
    "\n",
    "A/B tests are very commonly performed by data analysts and data scientists.  It is important that you get some practice working with the difficulties of these \n",
    "\n",
    "For this project, you will be working to understand the results of an A/B test run by an e-commerce website.  Your goal is to work through this notebook to help the company understand if they should implement the new page, keep the old page, or perhaps run the experiment longer to make their decision.\n",
    "\n",
    "<a id='probability'></a>\n",
    "#### Part I - Probability\n",
    "\n",
    "To get started, let's import our libraries."
   ]
  },
  {
   "cell_type": "code",
   "execution_count": 1,
   "metadata": {},
   "outputs": [],
   "source": [
    "import pandas as pd\n",
    "import numpy as np\n",
    "import random\n",
    "import matplotlib.pyplot as plt\n",
    "%matplotlib inline\n",
    "#We are setting the seed to assure you get the same answers on quizzes as we set up\n",
    "random.seed(42)"
   ]
  },
  {
   "cell_type": "markdown",
   "metadata": {},
   "source": [
    "`1.` Now, read in the `ab_data.csv` data. Store it in `df`.\n",
    "\n",
    "a. Read in the dataset and take a look at the top few rows here:"
   ]
  },
  {
   "cell_type": "code",
   "execution_count": 2,
   "metadata": {},
   "outputs": [
    {
     "data": {
      "text/html": [
       "<div>\n",
       "<style scoped>\n",
       "    .dataframe tbody tr th:only-of-type {\n",
       "        vertical-align: middle;\n",
       "    }\n",
       "\n",
       "    .dataframe tbody tr th {\n",
       "        vertical-align: top;\n",
       "    }\n",
       "\n",
       "    .dataframe thead th {\n",
       "        text-align: right;\n",
       "    }\n",
       "</style>\n",
       "<table border=\"1\" class=\"dataframe\">\n",
       "  <thead>\n",
       "    <tr style=\"text-align: right;\">\n",
       "      <th></th>\n",
       "      <th>user_id</th>\n",
       "      <th>timestamp</th>\n",
       "      <th>group</th>\n",
       "      <th>landing_page</th>\n",
       "      <th>converted</th>\n",
       "    </tr>\n",
       "  </thead>\n",
       "  <tbody>\n",
       "    <tr>\n",
       "      <th>0</th>\n",
       "      <td>851104</td>\n",
       "      <td>2017-01-21 22:11:48.556739</td>\n",
       "      <td>control</td>\n",
       "      <td>old_page</td>\n",
       "      <td>0</td>\n",
       "    </tr>\n",
       "    <tr>\n",
       "      <th>1</th>\n",
       "      <td>804228</td>\n",
       "      <td>2017-01-12 08:01:45.159739</td>\n",
       "      <td>control</td>\n",
       "      <td>old_page</td>\n",
       "      <td>0</td>\n",
       "    </tr>\n",
       "    <tr>\n",
       "      <th>2</th>\n",
       "      <td>661590</td>\n",
       "      <td>2017-01-11 16:55:06.154213</td>\n",
       "      <td>treatment</td>\n",
       "      <td>new_page</td>\n",
       "      <td>0</td>\n",
       "    </tr>\n",
       "    <tr>\n",
       "      <th>3</th>\n",
       "      <td>853541</td>\n",
       "      <td>2017-01-08 18:28:03.143765</td>\n",
       "      <td>treatment</td>\n",
       "      <td>new_page</td>\n",
       "      <td>0</td>\n",
       "    </tr>\n",
       "    <tr>\n",
       "      <th>4</th>\n",
       "      <td>864975</td>\n",
       "      <td>2017-01-21 01:52:26.210827</td>\n",
       "      <td>control</td>\n",
       "      <td>old_page</td>\n",
       "      <td>1</td>\n",
       "    </tr>\n",
       "  </tbody>\n",
       "</table>\n",
       "</div>"
      ],
      "text/plain": [
       "   user_id                   timestamp      group landing_page  converted\n",
       "0   851104  2017-01-21 22:11:48.556739    control     old_page          0\n",
       "1   804228  2017-01-12 08:01:45.159739    control     old_page          0\n",
       "2   661590  2017-01-11 16:55:06.154213  treatment     new_page          0\n",
       "3   853541  2017-01-08 18:28:03.143765  treatment     new_page          0\n",
       "4   864975  2017-01-21 01:52:26.210827    control     old_page          1"
      ]
     },
     "execution_count": 2,
     "metadata": {},
     "output_type": "execute_result"
    }
   ],
   "source": [
    "df = pd.read_csv('ab_data.csv')\n",
    "df.head()"
   ]
  },
  {
   "cell_type": "markdown",
   "metadata": {},
   "source": [
    "b. Use the cell below to find the number of rows in the dataset."
   ]
  },
  {
   "cell_type": "code",
   "execution_count": 3,
   "metadata": {},
   "outputs": [
    {
     "name": "stdout",
     "output_type": "stream",
     "text": [
      "<class 'pandas.core.frame.DataFrame'>\n",
      "RangeIndex: 294478 entries, 0 to 294477\n",
      "Data columns (total 5 columns):\n",
      " #   Column        Non-Null Count   Dtype \n",
      "---  ------        --------------   ----- \n",
      " 0   user_id       294478 non-null  int64 \n",
      " 1   timestamp     294478 non-null  object\n",
      " 2   group         294478 non-null  object\n",
      " 3   landing_page  294478 non-null  object\n",
      " 4   converted     294478 non-null  int64 \n",
      "dtypes: int64(2), object(3)\n",
      "memory usage: 11.2+ MB\n"
     ]
    }
   ],
   "source": [
    "df.info()"
   ]
  },
  {
   "cell_type": "markdown",
   "metadata": {},
   "source": [
    "c. The number of unique users in the dataset."
   ]
  },
  {
   "cell_type": "code",
   "execution_count": 4,
   "metadata": {},
   "outputs": [
    {
     "data": {
      "text/plain": [
       "user_id         290584\n",
       "timestamp       294478\n",
       "group                2\n",
       "landing_page         2\n",
       "converted            2\n",
       "dtype: int64"
      ]
     },
     "execution_count": 4,
     "metadata": {},
     "output_type": "execute_result"
    }
   ],
   "source": [
    "df.nunique()"
   ]
  },
  {
   "cell_type": "markdown",
   "metadata": {
    "collapsed": true
   },
   "source": [
    "d. The proportion of users converted."
   ]
  },
  {
   "cell_type": "code",
   "execution_count": 5,
   "metadata": {},
   "outputs": [
    {
     "data": {
      "text/plain": [
       "0.11965919355605512"
      ]
     },
     "execution_count": 5,
     "metadata": {},
     "output_type": "execute_result"
    }
   ],
   "source": [
    "df.query(\"converted == 1\").count()[0]/df.shape[0]"
   ]
  },
  {
   "cell_type": "markdown",
   "metadata": {
    "collapsed": true
   },
   "source": [
    "e. The number of times the `new_page` and `treatment` don't match."
   ]
  },
  {
   "cell_type": "code",
   "execution_count": 6,
   "metadata": {},
   "outputs": [
    {
     "data": {
      "text/plain": [
       "user_id         3893\n",
       "timestamp       3893\n",
       "group           3893\n",
       "landing_page    3893\n",
       "converted       3893\n",
       "dtype: int64"
      ]
     },
     "execution_count": 6,
     "metadata": {},
     "output_type": "execute_result"
    }
   ],
   "source": [
    "d=df.query('group == \"control\" and landing_page == \"new_page\" or group == \"treatment\" and landing_page == \"old_page\"').count()\n",
    "d"
   ]
  },
  {
   "cell_type": "code",
   "execution_count": null,
   "metadata": {},
   "outputs": [],
   "source": []
  },
  {
   "cell_type": "markdown",
   "metadata": {},
   "source": [
    "f. Do any of the rows have missing values?"
   ]
  },
  {
   "cell_type": "code",
   "execution_count": 7,
   "metadata": {},
   "outputs": [
    {
     "data": {
      "text/plain": [
       "user_id         0\n",
       "timestamp       0\n",
       "group           0\n",
       "landing_page    0\n",
       "converted       0\n",
       "dtype: int64"
      ]
     },
     "execution_count": 7,
     "metadata": {},
     "output_type": "execute_result"
    }
   ],
   "source": [
    "df.isnull().sum()"
   ]
  },
  {
   "cell_type": "markdown",
   "metadata": {},
   "source": [
    "`2.` For the rows where **treatment** does not match with **new_page** or **control** does not match with **old_page**, we cannot be sure if this row truly received the new or old page.\n",
    "\n",
    "a. Now use the answer to the quiz to create a new dataset that meets the specifications from the quiz.  Store your new dataframe in **df2**."
   ]
  },
  {
   "cell_type": "code",
   "execution_count": 8,
   "metadata": {},
   "outputs": [
    {
     "data": {
      "text/html": [
       "<div>\n",
       "<style scoped>\n",
       "    .dataframe tbody tr th:only-of-type {\n",
       "        vertical-align: middle;\n",
       "    }\n",
       "\n",
       "    .dataframe tbody tr th {\n",
       "        vertical-align: top;\n",
       "    }\n",
       "\n",
       "    .dataframe thead th {\n",
       "        text-align: right;\n",
       "    }\n",
       "</style>\n",
       "<table border=\"1\" class=\"dataframe\">\n",
       "  <thead>\n",
       "    <tr style=\"text-align: right;\">\n",
       "      <th></th>\n",
       "      <th>user_id</th>\n",
       "      <th>timestamp</th>\n",
       "      <th>group</th>\n",
       "      <th>landing_page</th>\n",
       "      <th>converted</th>\n",
       "    </tr>\n",
       "  </thead>\n",
       "  <tbody>\n",
       "    <tr>\n",
       "      <th>0</th>\n",
       "      <td>851104</td>\n",
       "      <td>2017-01-21 22:11:48.556739</td>\n",
       "      <td>control</td>\n",
       "      <td>old_page</td>\n",
       "      <td>0</td>\n",
       "    </tr>\n",
       "    <tr>\n",
       "      <th>1</th>\n",
       "      <td>804228</td>\n",
       "      <td>2017-01-12 08:01:45.159739</td>\n",
       "      <td>control</td>\n",
       "      <td>old_page</td>\n",
       "      <td>0</td>\n",
       "    </tr>\n",
       "    <tr>\n",
       "      <th>4</th>\n",
       "      <td>864975</td>\n",
       "      <td>2017-01-21 01:52:26.210827</td>\n",
       "      <td>control</td>\n",
       "      <td>old_page</td>\n",
       "      <td>1</td>\n",
       "    </tr>\n",
       "    <tr>\n",
       "      <th>5</th>\n",
       "      <td>936923</td>\n",
       "      <td>2017-01-10 15:20:49.083499</td>\n",
       "      <td>control</td>\n",
       "      <td>old_page</td>\n",
       "      <td>0</td>\n",
       "    </tr>\n",
       "    <tr>\n",
       "      <th>7</th>\n",
       "      <td>719014</td>\n",
       "      <td>2017-01-17 01:48:29.539573</td>\n",
       "      <td>control</td>\n",
       "      <td>old_page</td>\n",
       "      <td>0</td>\n",
       "    </tr>\n",
       "  </tbody>\n",
       "</table>\n",
       "</div>"
      ],
      "text/plain": [
       "   user_id                   timestamp    group landing_page  converted\n",
       "0   851104  2017-01-21 22:11:48.556739  control     old_page          0\n",
       "1   804228  2017-01-12 08:01:45.159739  control     old_page          0\n",
       "4   864975  2017-01-21 01:52:26.210827  control     old_page          1\n",
       "5   936923  2017-01-10 15:20:49.083499  control     old_page          0\n",
       "7   719014  2017-01-17 01:48:29.539573  control     old_page          0"
      ]
     },
     "execution_count": 8,
     "metadata": {},
     "output_type": "execute_result"
    }
   ],
   "source": [
    "#remove rows where treatment != new_page and control != old_page\n",
    "\n",
    "df1 = df.query(\"landing_page == 'old_page' and group=='control'\")\n",
    "df3 = df.query(\"landing_page == 'new_page' and group=='treatment'\")\n",
    "df2 = df1.append(df3)\n",
    "df2.head()"
   ]
  },
  {
   "cell_type": "code",
   "execution_count": 9,
   "metadata": {},
   "outputs": [
    {
     "data": {
      "text/plain": [
       "0"
      ]
     },
     "execution_count": 9,
     "metadata": {},
     "output_type": "execute_result"
    }
   ],
   "source": [
    "# Double Check all of the correct rows were removed - this should be 0\n",
    "df2[((df2['group'] == 'treatment') == (df2['landing_page'] == 'new_page')) == False].shape[0]"
   ]
  },
  {
   "cell_type": "markdown",
   "metadata": {},
   "source": []
  },
  {
   "cell_type": "markdown",
   "metadata": {},
   "source": [
    "3a. How many unique **user_id**s are in **df2**?"
   ]
  },
  {
   "cell_type": "code",
   "execution_count": 10,
   "metadata": {},
   "outputs": [
    {
     "data": {
      "text/plain": [
       "290584"
      ]
     },
     "execution_count": 10,
     "metadata": {},
     "output_type": "execute_result"
    }
   ],
   "source": [
    "df2[\"user_id\"].nunique()"
   ]
  },
  {
   "cell_type": "markdown",
   "metadata": {
    "collapsed": true
   },
   "source": [
    "b. There is one **user_id** repeated in **df2**.  What is it?"
   ]
  },
  {
   "cell_type": "code",
   "execution_count": 11,
   "metadata": {},
   "outputs": [
    {
     "data": {
      "text/html": [
       "<div>\n",
       "<style scoped>\n",
       "    .dataframe tbody tr th:only-of-type {\n",
       "        vertical-align: middle;\n",
       "    }\n",
       "\n",
       "    .dataframe tbody tr th {\n",
       "        vertical-align: top;\n",
       "    }\n",
       "\n",
       "    .dataframe thead th {\n",
       "        text-align: right;\n",
       "    }\n",
       "</style>\n",
       "<table border=\"1\" class=\"dataframe\">\n",
       "  <thead>\n",
       "    <tr style=\"text-align: right;\">\n",
       "      <th></th>\n",
       "      <th>user_id</th>\n",
       "      <th>timestamp</th>\n",
       "      <th>group</th>\n",
       "      <th>landing_page</th>\n",
       "      <th>converted</th>\n",
       "    </tr>\n",
       "  </thead>\n",
       "  <tbody>\n",
       "    <tr>\n",
       "      <th>2893</th>\n",
       "      <td>773192</td>\n",
       "      <td>2017-01-14 02:55:59.590927</td>\n",
       "      <td>treatment</td>\n",
       "      <td>new_page</td>\n",
       "      <td>0</td>\n",
       "    </tr>\n",
       "  </tbody>\n",
       "</table>\n",
       "</div>"
      ],
      "text/plain": [
       "      user_id                   timestamp      group landing_page  converted\n",
       "2893   773192  2017-01-14 02:55:59.590927  treatment     new_page          0"
      ]
     },
     "execution_count": 11,
     "metadata": {},
     "output_type": "execute_result"
    }
   ],
   "source": [
    "df2[df2.duplicated(['user_id'])]"
   ]
  },
  {
   "cell_type": "markdown",
   "metadata": {},
   "source": [
    "c. What is the row information for the repeat **user_id**? "
   ]
  },
  {
   "cell_type": "code",
   "execution_count": 12,
   "metadata": {},
   "outputs": [
    {
     "data": {
      "text/html": [
       "<div>\n",
       "<style scoped>\n",
       "    .dataframe tbody tr th:only-of-type {\n",
       "        vertical-align: middle;\n",
       "    }\n",
       "\n",
       "    .dataframe tbody tr th {\n",
       "        vertical-align: top;\n",
       "    }\n",
       "\n",
       "    .dataframe thead th {\n",
       "        text-align: right;\n",
       "    }\n",
       "</style>\n",
       "<table border=\"1\" class=\"dataframe\">\n",
       "  <thead>\n",
       "    <tr style=\"text-align: right;\">\n",
       "      <th></th>\n",
       "      <th>user_id</th>\n",
       "      <th>timestamp</th>\n",
       "      <th>group</th>\n",
       "      <th>landing_page</th>\n",
       "      <th>converted</th>\n",
       "    </tr>\n",
       "  </thead>\n",
       "  <tbody>\n",
       "    <tr>\n",
       "      <th>1899</th>\n",
       "      <td>773192</td>\n",
       "      <td>2017-01-09 05:37:58.781806</td>\n",
       "      <td>treatment</td>\n",
       "      <td>new_page</td>\n",
       "      <td>0</td>\n",
       "    </tr>\n",
       "    <tr>\n",
       "      <th>2893</th>\n",
       "      <td>773192</td>\n",
       "      <td>2017-01-14 02:55:59.590927</td>\n",
       "      <td>treatment</td>\n",
       "      <td>new_page</td>\n",
       "      <td>0</td>\n",
       "    </tr>\n",
       "  </tbody>\n",
       "</table>\n",
       "</div>"
      ],
      "text/plain": [
       "      user_id                   timestamp      group landing_page  converted\n",
       "1899   773192  2017-01-09 05:37:58.781806  treatment     new_page          0\n",
       "2893   773192  2017-01-14 02:55:59.590927  treatment     new_page          0"
      ]
     },
     "execution_count": 12,
     "metadata": {},
     "output_type": "execute_result"
    }
   ],
   "source": [
    "df2[df2.duplicated(['user_id'], keep=False)]"
   ]
  },
  {
   "cell_type": "markdown",
   "metadata": {},
   "source": [
    "d. Remove **one** of the rows with a duplicate **user_id**, but keep your dataframe as **df2**."
   ]
  },
  {
   "cell_type": "code",
   "execution_count": 13,
   "metadata": {},
   "outputs": [],
   "source": [
    "df2.drop_duplicates(['user_id'], inplace = True)"
   ]
  },
  {
   "cell_type": "markdown",
   "metadata": {},
   "source": [
    "4a. What is the probability of an individual converting regardless of the page they receive?"
   ]
  },
  {
   "cell_type": "code",
   "execution_count": 14,
   "metadata": {},
   "outputs": [
    {
     "data": {
      "text/plain": [
       "0.11959708724499628"
      ]
     },
     "execution_count": 14,
     "metadata": {},
     "output_type": "execute_result"
    }
   ],
   "source": [
    "df2[\"converted\"].mean()"
   ]
  },
  {
   "cell_type": "markdown",
   "metadata": {},
   "source": [
    "b. Given that an individual was in the `control` group, what is the probability they converted?"
   ]
  },
  {
   "cell_type": "code",
   "execution_count": 15,
   "metadata": {},
   "outputs": [
    {
     "data": {
      "text/plain": [
       "user_id         0.120386\n",
       "timestamp       0.120386\n",
       "group           0.120386\n",
       "landing_page    0.120386\n",
       "converted       0.120386\n",
       "dtype: float64"
      ]
     },
     "execution_count": 15,
     "metadata": {},
     "output_type": "execute_result"
    }
   ],
   "source": [
    "df2.head()\n",
    "con_df = df2.query(\"group == 'control'\")\n",
    "con_df\n",
    "con_prob = con_df.query(\"converted=='1'\").count() / con_df.query(\"group == 'control'\").count()\n",
    "con_prob\n"
   ]
  },
  {
   "cell_type": "markdown",
   "metadata": {},
   "source": [
    "c. Given that an individual was in the `treatment` group, what is the probability they converted?"
   ]
  },
  {
   "cell_type": "code",
   "execution_count": 16,
   "metadata": {},
   "outputs": [
    {
     "data": {
      "text/plain": [
       "user_id         0.118808\n",
       "timestamp       0.118808\n",
       "group           0.118808\n",
       "landing_page    0.118808\n",
       "converted       0.118808\n",
       "dtype: float64"
      ]
     },
     "execution_count": 16,
     "metadata": {},
     "output_type": "execute_result"
    }
   ],
   "source": [
    "df2.head()\n",
    "treat_df = df2.query(\"group == 'treatment'\")\n",
    "prob_treat = treat_df.query(\"converted == '1'\").count()/treat_df.query(\"group == 'treatment'\").count()\n",
    "prob_treat"
   ]
  },
  {
   "cell_type": "markdown",
   "metadata": {},
   "source": [
    "d. What is the probability that an individual received the new page?"
   ]
  },
  {
   "cell_type": "code",
   "execution_count": 17,
   "metadata": {
    "scrolled": true
   },
   "outputs": [
    {
     "data": {
      "text/plain": [
       "user_id         0.500062\n",
       "timestamp       0.500062\n",
       "group           0.500062\n",
       "landing_page    0.500062\n",
       "converted       0.500062\n",
       "dtype: float64"
      ]
     },
     "execution_count": 17,
     "metadata": {},
     "output_type": "execute_result"
    }
   ],
   "source": [
    "df2.head()\n",
    "pages = df2[\"landing_page\"].count()\n",
    "pages\n",
    "new_p = df2.query(\"landing_page == 'new_page'\").count()/pages\n",
    "new_p\n"
   ]
  },
  {
   "cell_type": "markdown",
   "metadata": {},
   "source": [
    "e. Consider your results from parts (a) through (d) above, and explain below whether you think there is sufficient evidence to conclude that the new treatment page leads to more conversions."
   ]
  },
  {
   "cell_type": "markdown",
   "metadata": {},
   "source": [
    "\n",
    "In the experiment, half of the participants were given the new page (treatment group) and the other half were given the old page to test (control group). It was found that regardless of the page being tested, there is a conversion rate of 12%. The conversion rate for the treatment and control groups were also 12%. Therefore, there is not enough evidence to show that the new page is better than the old page. "
   ]
  },
  {
   "cell_type": "markdown",
   "metadata": {},
   "source": [
    "<a id='ab_test'></a>\n",
    "### Part II - A/B Test\n",
    "\n",
    "Notice that because of the time stamp associated with each event, you could technically run a hypothesis test continuously as each observation was observed.  \n",
    "\n",
    "However, then the hard question is do you stop as soon as one page is considered significantly better than another or does it need to happen consistently for a certain amount of time?  How long do you run to render a decision that neither page is better than another?  \n",
    "\n",
    "These questions are the difficult parts associated with A/B tests in general.  \n",
    "\n",
    "\n",
    "`1.` For now, consider you need to make the decision just based on all the data provided.  If you want to assume that the old page is better unless the new page proves to be definitely better at a Type I error rate of 5%, what should your null and alternative hypotheses be?  You can state your hypothesis in terms of words or in terms of **$p_{old}$** and **$p_{new}$**, which are the converted rates for the old and new pages."
   ]
  },
  {
   "cell_type": "markdown",
   "metadata": {},
   "source": [
    "Null Hypothesis: **$p_{old}$** => **$p_{new}$**\n",
    "Alternative Hypothesis: **$p_{old}$** < **$p_{new}$**"
   ]
  },
  {
   "cell_type": "markdown",
   "metadata": {},
   "source": [
    "`2.` Assume under the null hypothesis, $p_{new}$ and $p_{old}$ both have \"true\" success rates equal to the **converted** success rate regardless of page - that is $p_{new}$ and $p_{old}$ are equal. Furthermore, assume they are equal to the **converted** rate in **ab_data.csv** regardless of the page. <br><br>\n",
    "\n",
    "Use a sample size for each page equal to the ones in **ab_data.csv**.  <br><br>\n",
    "\n",
    "Perform the sampling distribution for the difference in **converted** between the two pages over 10,000 iterations of calculating an estimate from the null.  <br><br>"
   ]
  },
  {
   "cell_type": "markdown",
   "metadata": {},
   "source": [
    "a. What is the **conversion rate** for $p_{new}$ under the null? "
   ]
  },
  {
   "cell_type": "code",
   "execution_count": 18,
   "metadata": {},
   "outputs": [
    {
     "data": {
      "text/plain": [
       "0.11959708724499628"
      ]
     },
     "execution_count": 18,
     "metadata": {},
     "output_type": "execute_result"
    }
   ],
   "source": [
    "p_new = df2[\"converted\"].mean()\n",
    "p_new"
   ]
  },
  {
   "cell_type": "markdown",
   "metadata": {},
   "source": [
    "b. What is the **conversion rate** for $p_{old}$ under the null? <br><br>"
   ]
  },
  {
   "cell_type": "code",
   "execution_count": 19,
   "metadata": {},
   "outputs": [
    {
     "data": {
      "text/plain": [
       "0.11959708724499628"
      ]
     },
     "execution_count": 19,
     "metadata": {},
     "output_type": "execute_result"
    }
   ],
   "source": [
    "p_old = df2[\"converted\"].mean()\n",
    "p_old"
   ]
  },
  {
   "cell_type": "markdown",
   "metadata": {},
   "source": [
    "c. What is $n_{new}$, the number of individuals in the treatment group?"
   ]
  },
  {
   "cell_type": "code",
   "execution_count": 20,
   "metadata": {},
   "outputs": [
    {
     "data": {
      "text/plain": [
       "145310"
      ]
     },
     "execution_count": 20,
     "metadata": {},
     "output_type": "execute_result"
    }
   ],
   "source": [
    "n_new = df2[df2.landing_page == 'new_page'].shape[0]\n",
    "n_new"
   ]
  },
  {
   "cell_type": "markdown",
   "metadata": {},
   "source": [
    "d. What is $n_{old}$, the number of individuals in the control group?"
   ]
  },
  {
   "cell_type": "code",
   "execution_count": 21,
   "metadata": {},
   "outputs": [
    {
     "data": {
      "text/plain": [
       "145274"
      ]
     },
     "execution_count": 21,
     "metadata": {},
     "output_type": "execute_result"
    }
   ],
   "source": [
    "n_old = df2[df2.landing_page == 'old_page'].shape[0]\n",
    "n_old"
   ]
  },
  {
   "cell_type": "markdown",
   "metadata": {},
   "source": [
    "e. Simulate $n_{new}$ transactions with a conversion rate of $p_{new}$ under the null.  Store these $n_{new}$ 1's and 0's in **new_page_converted**."
   ]
  },
  {
   "cell_type": "code",
   "execution_count": 33,
   "metadata": {},
   "outputs": [
    {
     "data": {
      "text/plain": [
       "0.1195168949143211"
      ]
     },
     "execution_count": 33,
     "metadata": {},
     "output_type": "execute_result"
    }
   ],
   "source": [
    "new_page_converted = np.random.choice([0, 1], size=n_new, p=[(1 - p_new), p_new])\n",
    "new_page_converted.mean()"
   ]
  },
  {
   "cell_type": "markdown",
   "metadata": {},
   "source": [
    "f. Simulate $n_{old}$ transactions with a conversion rate of $p_{old}$ under the null.  Store these $n_{old}$ 1's and 0's in **old_page_converted**."
   ]
  },
  {
   "cell_type": "code",
   "execution_count": 32,
   "metadata": {},
   "outputs": [
    {
     "data": {
      "text/plain": [
       "0.12023486652807798"
      ]
     },
     "execution_count": 32,
     "metadata": {},
     "output_type": "execute_result"
    }
   ],
   "source": [
    "old_page_converted = np.random.choice([0, 1], size=n_old, p=[(1 - p_old), p_old])\n",
    "old_page_converted.mean()"
   ]
  },
  {
   "cell_type": "markdown",
   "metadata": {},
   "source": [
    "g. Find $p_{new}$ - $p_{old}$ for your simulated values from part (e) and (f)."
   ]
  },
  {
   "cell_type": "code",
   "execution_count": 30,
   "metadata": {},
   "outputs": [
    {
     "data": {
      "text/plain": [
       "0.0019389468388841397"
      ]
     },
     "execution_count": 30,
     "metadata": {},
     "output_type": "execute_result"
    }
   ],
   "source": [
    "new_page_converted.mean() - old_page_converted.mean()"
   ]
  },
  {
   "cell_type": "code",
   "execution_count": null,
   "metadata": {},
   "outputs": [],
   "source": []
  },
  {
   "cell_type": "markdown",
   "metadata": {},
   "source": [
    "h. Create 10,000 $p_{new}$ - $p_{old}$ values using the same simulation process you used in parts (a) through (g) above. Store all 10,000 values in a NumPy array called **p_diffs**."
   ]
  },
  {
   "cell_type": "code",
   "execution_count": 34,
   "metadata": {},
   "outputs": [],
   "source": [
    "\n",
    "p_diffs = []\n",
    "for _ in range(10000):\n",
    "    new_page_converted = np.random.choice([0, 1], size=n_new, p=[(1 - p_new), p_new])\n",
    "    old_page_converted = np.random.choice([0, 1], size=n_old, p=[(1 - p_old), p_old])\n",
    "    p_diffs.append(new_page_converted.mean() - old_page_converted.mean())"
   ]
  },
  {
   "cell_type": "code",
   "execution_count": 37,
   "metadata": {},
   "outputs": [
    {
     "data": {
      "text/plain": [
       "[0.00028670864015788167,\n",
       " -0.0036982051776460884,\n",
       " -0.0012616437026039262,\n",
       " 0.0013469398679149952,\n",
       " 0.00018358167469012532,\n",
       " 3.225966759629051e-05,\n",
       " -0.0005251914472525626,\n",
       " 0.0009272039767203588,\n",
       " 0.0006446580546339287,\n",
       " -0.0002428518751663583,\n",
       " -0.0006012003466676213,\n",
       " 0.0005968808291239996,\n",
       " -1.5723907913864354e-05,\n",
       " -0.00033931187866652335,\n",
       " 0.0005970581878018688,\n",
       " -0.0020460283723083422,\n",
       " -0.0012135271080853521,\n",
       " -0.0012136464841185496,\n",
       " -0.0019016581242898428,\n",
       " 0.00020423571803164509,\n",
       " 0.001257504954481986,\n",
       " -0.0011792048879157302,\n",
       " 0.0005207747235104893,\n",
       " 0.000803278011299341,\n",
       " -7.793502223620019e-05,\n",
       " 0.0015603604347855932,\n",
       " 0.0003008799016972902,\n",
       " -0.0010276935845406898,\n",
       " -0.0003736903761089455,\n",
       " 0.0011747233600413465,\n",
       " 0.0007137390701802832,\n",
       " -0.001660786943845513,\n",
       " 0.0015600295926364721,\n",
       " -0.0009103970629054381,\n",
       " -0.000993202532552681,\n",
       " -0.0017023388987106314,\n",
       " 0.0004589643715852826,\n",
       " 0.0008857696925165248,\n",
       " -0.0005663460504643503,\n",
       " -0.00015328735346875622,\n",
       " 0.00025961274393991596,\n",
       " 0.00236556286353419,\n",
       " 0.0009894679575716686,\n",
       " 0.0010165860236243801,\n",
       " -0.001970858515869381,\n",
       " 0.0004246643212503648,\n",
       " 0.001381369526514492,\n",
       " 0.0008924639404345736,\n",
       " 0.0007960175799096303,\n",
       " -0.0006763139258337963,\n",
       " 0.0009408346353666219,\n",
       " -0.001309710841337297,\n",
       " 0.0011335073634410608,\n",
       " -0.0010893845604327268,\n",
       " 0.0013261783861436005,\n",
       " -4.3230798760382494e-05,\n",
       " 0.0004796951566624075,\n",
       " -0.003044201969214358,\n",
       " -0.001041194634922346,\n",
       " -0.0007246743885344215,\n",
       " -0.0005251044732855342,\n",
       " 0.0002733730108507859,\n",
       " 4.643632947998189e-06,\n",
       " 3.253082172879895e-05,\n",
       " 0.0008308445901624439,\n",
       " 0.0014157650776759484,\n",
       " 0.0014637776445084322,\n",
       " 0.001305510699826859,\n",
       " -0.0013234762243638787,\n",
       " -0.0023973995041557394,\n",
       " 0.0017322785025762621,\n",
       " 0.001650160297805764,\n",
       " -2.269783682394555e-05,\n",
       " -0.0005804184004334079,\n",
       " 0.00077560569937829,\n",
       " -0.002314580391533247,\n",
       " 0.0005896664427756659,\n",
       " 0.0010786709404259354,\n",
       " -0.0008281918841678976,\n",
       " -0.0034639770839627326,\n",
       " -0.00022898928594133894,\n",
       " 0.00010125541454750198,\n",
       " 0.0015536320794295039,\n",
       " -0.0007249370158074336,\n",
       " -0.00017419890796756266,\n",
       " 0.0007345568292244642,\n",
       " 0.0009062463771801754,\n",
       " 4.686267245576636e-06,\n",
       " 0.0008788554516230562,\n",
       " 0.0009752421241313869,\n",
       " -0.0006902447299349246,\n",
       " 0.001663422596121053,\n",
       " -7.062172431750169e-05,\n",
       " -0.0005666734818696589,\n",
       " -0.0009242443037833364,\n",
       " -0.0009241914372543486,\n",
       " -0.0010347544874177994,\n",
       " 0.0016290611523976511,\n",
       " 0.0015743014711181308,\n",
       " -8.472647635270059e-05,\n",
       " -0.0008965736972341709,\n",
       " 1.1757402354095614e-05,\n",
       " 0.0021177672099649686,\n",
       " 4.609497087085246e-05,\n",
       " 0.0008099569108702687,\n",
       " -0.0015092619974952787,\n",
       " 0.0011951181868536664,\n",
       " 0.0009270112696953686,\n",
       " -0.0016540347132827926,\n",
       " 0.0004453115431042737,\n",
       " -0.000931044284759347,\n",
       " -0.0015439525779958885,\n",
       " -0.0009382347959010495,\n",
       " 0.001470748162674701,\n",
       " 0.0003626731999034766,\n",
       " 0.0017805485805660604,\n",
       " 0.000479630352530111,\n",
       " 0.0007276221238681491,\n",
       " -0.0014889592607656987,\n",
       " -0.0025282073084040707,\n",
       " -0.0014609509905798151,\n",
       " 8.029781500730471e-05,\n",
       " -0.0006834618026779343,\n",
       " -0.00029114412299088843,\n",
       " -0.003409207170451789,\n",
       " -0.0005182413935491126,\n",
       " -0.0017022911482973552,\n",
       " 0.000293691095927473,\n",
       " 0.0002663035811141662,\n",
       " 0.0021590752966479942,\n",
       " 0.001704817656771121,\n",
       " -0.0003532870224371154,\n",
       " 0.0006996547826079169,\n",
       " 0.0002870667682574324,\n",
       " 0.0006379689228315916,\n",
       " -0.00137878674076794,\n",
       " 0.001305519226686383,\n",
       " 0.000644929208766451,\n",
       " -0.00031191242624988014,\n",
       " -0.001984368093110561,\n",
       " 0.0014501879147878344,\n",
       " 0.0007688244774932129,\n",
       " 0.0020212850366300716,\n",
       " -0.0025899511508250816,\n",
       " -0.0015164525086369812,\n",
       " 0.0013468801798983965,\n",
       " -0.001619637456749437,\n",
       " -0.0030717020385732374,\n",
       " -0.0011514950578127986,\n",
       " -0.0009795531148154984,\n",
       " 0.0026888523942038695,\n",
       " 0.0009132987531977749,\n",
       " -0.0008420749378557496,\n",
       " 0.0007618352002360107,\n",
       " -0.0019223206944908727,\n",
       " -0.0015644173250561888,\n",
       " 0.00010825151329231508,\n",
       " 0.0006240773422842294,\n",
       " -0.001289184700888471,\n",
       " -0.0011376529330506119,\n",
       " 0.0008789748276562259,\n",
       " -0.0002911424176189753,\n",
       " -0.0006353196275808437,\n",
       " -0.0008418515341365035,\n",
       " 0.0002665031096267534,\n",
       " 0.0012436423652569528,\n",
       " 0.0008787565400526914,\n",
       " 0.0009546170721122099,\n",
       " 0.0010851469007404357,\n",
       " 0.00029378659675401153,\n",
       " 0.0006859286231351153,\n",
       " 5.9660825384819094e-05,\n",
       " 9.405808191817466e-05,\n",
       " -0.0012202196506315016,\n",
       " 0.00026628993813893054,\n",
       " 0.0009959950790432576,\n",
       " -0.002459330937486029,\n",
       " -6.380639499437013e-05,\n",
       " -0.0016541080442746131,\n",
       " -0.00016711583525570728,\n",
       " 0.0010164922281697408,\n",
       " -0.0007315920401717163,\n",
       " -0.0009863957300890736,\n",
       " -0.00019480690626771935,\n",
       " -0.00030494020271171207,\n",
       " 0.0016428725804655958,\n",
       " 0.0009545778485584716,\n",
       " 0.0016911273101082591,\n",
       " 0.0005141896193942147,\n",
       " 0.001257695956135077,\n",
       " -0.0011447581755971992,\n",
       " 0.0011473818902694027,\n",
       " -0.0008969181823584998,\n",
       " -0.0001330869390533257,\n",
       " -0.0015094717582392891,\n",
       " 0.00021134607669393013,\n",
       " -0.0015989254307632178,\n",
       " -0.0008830692361087022,\n",
       " 0.0001907926502946744,\n",
       " -0.000573340443837278,\n",
       " -2.1955715817645327e-06,\n",
       " -0.000821115632943667,\n",
       " -0.00035314377119730067,\n",
       " -8.940980656887976e-06,\n",
       " 0.0009406606874325513,\n",
       " -0.001571575434131764,\n",
       " 8.744057573575881e-05,\n",
       " -0.0020255960273141693,\n",
       " -0.0017707104795454953,\n",
       " 0.0008515276248263065,\n",
       " -0.0013233432053554595,\n",
       " 0.0005140122607163317,\n",
       " 0.00017717904536743156,\n",
       " 0.001436347495397547,\n",
       " 0.00017684138173069963,\n",
       " 0.0009546972245916413,\n",
       " -0.0022045647657505246,\n",
       " 0.000927113592009518,\n",
       " -0.001585044082447279,\n",
       " 0.0010991868486433382,\n",
       " -0.001564342288692483,\n",
       " 0.0012572593809279942,\n",
       " -0.00020847678846773465,\n",
       " -0.00011240902050518864,\n",
       " 0.00153986328565911,\n",
       " 0.0001357532880231216,\n",
       " -0.0012616658724386581,\n",
       " -0.002073632469353312,\n",
       " -0.0016262907757418205,\n",
       " -0.0008280673920190162,\n",
       " 0.0006865544946233759,\n",
       " -0.0009724751582193547,\n",
       " -0.0006765987229415404,\n",
       " 0.001443389639183737,\n",
       " 0.00012172016160783006,\n",
       " 0.00021136824652866204,\n",
       " -0.0004150615615523684,\n",
       " -0.0019979458852278364,\n",
       " -0.001233783799773569,\n",
       " -0.001144587638406927,\n",
       " 0.0001630606503570109,\n",
       " 0.0014225821123709653,\n",
       " -2.0540257138490503e-06,\n",
       " -0.0010480764737496873,\n",
       " 0.0019869986292703895,\n",
       " -0.0007318683104199364,\n",
       " -0.0011792526383290064,\n",
       " -0.001426695279914375,\n",
       " -0.0021563867778434803,\n",
       " 0.002626922666245479,\n",
       " 0.0013604852579661292,\n",
       " 0.0004316416609042584,\n",
       " -0.0012822346471850349,\n",
       " 0.0005348487788514322,\n",
       " -8.942686028787228e-06,\n",
       " 0.00023892118241652938,\n",
       " 0.0020696915443720737,\n",
       " -0.00042880989085991583,\n",
       " -0.0005459205269577883,\n",
       " -0.0006904834820012917,\n",
       " -0.0006212404561241891,\n",
       " -0.0012892631479960032,\n",
       " 0.001099145919717659,\n",
       " 8.039843194956875e-05,\n",
       " -0.00020873600499693445,\n",
       " -0.0002291444747844762,\n",
       " 0.0003074888810201959,\n",
       " -7.08417172929493e-05,\n",
       " -0.0017639838295612914,\n",
       " 0.0014913067051896822,\n",
       " -0.00042889174871124647,\n",
       " -0.00026339848007801703,\n",
       " -7.08843515905e-05,\n",
       " -0.0007316773087668454,\n",
       " 0.001340027332393412,\n",
       " 0.0024207761737398,\n",
       " -0.0011307028793471618,\n",
       " -0.0003461664315434071,\n",
       " 0.0005761892676006269,\n",
       " 0.0008857679871446394,\n",
       " -0.0014265759038811915,\n",
       " -0.0021428106910981043,\n",
       " -0.0006971402117374736,\n",
       " -0.0008487026762695887,\n",
       " 0.0011333913981516897,\n",
       " -0.0016058294394253048,\n",
       " 0.0008720946942007979,\n",
       " 0.00040393524154513916,\n",
       " 0.00039704146511448934,\n",
       " 0.0009683875712545031,\n",
       " 0.0027714429869914042,\n",
       " -0.00024983774167974815,\n",
       " -0.0005872269082689147,\n",
       " 0.00022504495021628823,\n",
       " -0.00010514347299975246,\n",
       " 0.0004452433282281787,\n",
       " -0.0016537806128693044,\n",
       " -0.0006352667610518697,\n",
       " -0.0006628128754521262,\n",
       " 0.0002799700525703691,\n",
       " 0.0022347601754015567,\n",
       " -0.0013099359504284425,\n",
       " 0.000211199414710303,\n",
       " 8.739623606628111e-05,\n",
       " -0.0004221275805452035,\n",
       " -2.178517862744256e-06,\n",
       " 0.0016497885267309914,\n",
       " 0.0014157650776759484,\n",
       " 0.001202073356672828,\n",
       " -0.0005869642809959164,\n",
       " -0.0005525653190906615,\n",
       " 0.0008651719264478053,\n",
       " -1.601893725301784e-05,\n",
       " -0.0017639838295612914,\n",
       " -0.0022457074313590175,\n",
       " -0.0010071998461580328,\n",
       " -2.983548143667414e-05,\n",
       " -6.403150408552938e-05,\n",
       " -0.001082942707556267,\n",
       " -0.0004284875755703327,\n",
       " 0.00045225818606391133,\n",
       " -0.0013853513804213957,\n",
       " 0.00039019884984091424,\n",
       " 0.0005966079696195781,\n",
       " 0.0009270709577119535,\n",
       " -0.0025073520311780367,\n",
       " -0.00015320890636122408,\n",
       " -0.0005665285252579311,\n",
       " 0.0009753597947926851,\n",
       " 0.0020903984542425674,\n",
       " 0.0016977362894311787,\n",
       " -0.0010276833523092804,\n",
       " 0.0018356152287880428,\n",
       " -0.0005320835183113132,\n",
       " 3.9274525432023144e-05,\n",
       " 0.0013538080637671007,\n",
       " -0.0005596978475876924,\n",
       " 0.0011748614951654635,\n",
       " -0.002727893188942357,\n",
       " -0.0022528621296907664,\n",
       " -0.0003324010485168255,\n",
       " 0.0022072072395136755,\n",
       " 0.0007276033647772157,\n",
       " -0.0016331709091972485,\n",
       " -9.843217136268345e-05,\n",
       " -5.680688550575852e-05,\n",
       " 0.0011265402560186044,\n",
       " -0.001543602976755834,\n",
       " -0.0008280520436718813,\n",
       " -0.0014476460579669476,\n",
       " -0.0008420817593433605,\n",
       " 0.0016359157052745488,\n",
       " 0.0016634976324847728,\n",
       " 0.0010372963442386862,\n",
       " 0.00037660912012031644,\n",
       " 0.0014019741140708364,\n",
       " 0.0010645354916964805,\n",
       " -0.0021152389961192897,\n",
       " -0.00046342543499681976,\n",
       " -0.0014819631620208856,\n",
       " -0.0008968260922757459,\n",
       " 0.0004314677129701877,\n",
       " -0.00013983746424417465,\n",
       " 0.00030749570250782066,\n",
       " -0.0006558355357982465,\n",
       " 0.0006998440788891225,\n",
       " -0.00024253467599247291,\n",
       " 0.0013676535992730998,\n",
       " -0.00035982778688392614,\n",
       " -0.0006422423953338502,\n",
       " -0.0022044266306264215,\n",
       " 0.0009547893146743952,\n",
       " -0.0023696504504990556,\n",
       " 0.0007341185486454682,\n",
       " -0.0019566889597018994,\n",
       " -0.0020325460810176194,\n",
       " 0.00077551360929555,\n",
       " -0.002417958046670693,\n",
       " -0.0014611130009105633,\n",
       " -0.0007040680956061779,\n",
       " -0.0001605597224617894,\n",
       " 3.2394391976595105e-05,\n",
       " 0.0006794458413329901,\n",
       " -0.0018879882420898275,\n",
       " 0.0010028598641515646,\n",
       " -0.0011722173160304272,\n",
       " -0.001344065463573088,\n",
       " 7.400432948638513e-05,\n",
       " 0.0006517377166019717,\n",
       " 0.0009958160149934892,\n",
       " -0.0005391086083784691,\n",
       " -0.0025625909219622045,\n",
       " -0.00046320544202137215,\n",
       " -1.583816783133629e-05,\n",
       " 0.0016705431870147613,\n",
       " -0.0011652689676988903,\n",
       " -0.0009726763921038828,\n",
       " 0.0001701778305069207,\n",
       " 0.00019054878211259563,\n",
       " -0.0010550913315854338,\n",
       " -0.00022230697562659885,\n",
       " 0.00023890583406940835,\n",
       " 0.0014842833204944256,\n",
       " 0.0019663121838627146,\n",
       " -0.0008486907386662662,\n",
       " -0.0010758664563320364,\n",
       " -0.001303129147964821,\n",
       " -0.0007935661077995981,\n",
       " 0.00023188415474606483,\n",
       " -0.0010690153141989511,\n",
       " -0.0018122300323444585,\n",
       " -0.0014679897236221928,\n",
       " -0.0017503395279398204,\n",
       " 0.0002458234857067032,\n",
       " 0.0009686058588580376,\n",
       " -0.00031202157005164044,\n",
       " -0.0005321056881460451,\n",
       " -0.0004561274854252423,\n",
       " -0.0005668781264979716,\n",
       " -9.136444699796298e-05,\n",
       " 0.0007617396994094583,\n",
       " -3.675142770206974e-05,\n",
       " 0.0024412068133620873,\n",
       " 0.0020146197800343657,\n",
       " 0.0012229610359650034,\n",
       " 0.000431346631565091,\n",
       " 0.000589811399387366,\n",
       " -0.001963427547289398,\n",
       " 0.00028000074926461116,\n",
       " -0.0016745591483597055,\n",
       " -0.0002222182962876712,\n",
       " -0.00011234080562907978,\n",
       " -0.0002361508057606987,\n",
       " -0.0018534937793580203,\n",
       " 0.001443396460671334,\n",
       " 0.00029389062444008796,\n",
       " -0.0009933065602387575,\n",
       " 0.0003560727474400671,\n",
       " 0.00015631524128188745,\n",
       " 0.001415715621890759,\n",
       " -0.0011237153074618728,\n",
       " -0.0027826767454285084,\n",
       " -9.838442094940725e-05,\n",
       " 0.0019113069290292162,\n",
       " 0.0021040683364425966,\n",
       " 0.0004934281376228339,\n",
       " 0.0004657967546274344,\n",
       " 0.0014499917970190318,\n",
       " -0.0027895483520244263,\n",
       " -0.0008968022170691287,\n",
       " 0.0005896630320318536,\n",
       " -0.00015348006049376028,\n",
       " -0.0009520700991756254,\n",
       " 0.00234507594663913,\n",
       " 0.0011127987481986679,\n",
       " 0.0004933531012591141,\n",
       " 0.00036279939742427103,\n",
       " -0.00010536858209091171,\n",
       " -0.00027752540194793396,\n",
       " 0.0016705636514775801,\n",
       " -0.0007800667627898272,\n",
       " 0.0003560215862829924,\n",
       " -0.0006285708077619079,\n",
       " -0.000924508636428234,\n",
       " -0.00019486147816860644,\n",
       " 0.0013057511572651254,\n",
       " -0.0011307796210827947,\n",
       " 0.0011679063253463295,\n",
       " -0.0006698021527093284,\n",
       " 0.0015603399703227605,\n",
       " 0.003136439661369353,\n",
       " 0.0013126227638610571,\n",
       " 0.0012783704639394294,\n",
       " -0.000587122880582866,\n",
       " 0.0006449803699235257,\n",
       " -0.001832790280231325,\n",
       " 0.001670318077923616,\n",
       " 0.0013676331348102672,\n",
       " -0.00102743436801149,\n",
       " -0.0007041942931269862,\n",
       " 0.0006517905831309595,\n",
       " -0.0009795155966336316,\n",
       " 0.00034907153257955625,\n",
       " -5.701835162168212e-05,\n",
       " 0.001181577912918244,\n",
       " -0.0009723915949961248,\n",
       " 0.0003763106800373506,\n",
       " -0.0011032863732115122,\n",
       " -0.0018329062455207101,\n",
       " 0.00014929697270234243,\n",
       " 0.0008034093249358609,\n",
       " -2.2764346328141283e-05,\n",
       " -3.6434228528170465e-05,\n",
       " -0.0009379499987933054,\n",
       " 0.0021109552913856494,\n",
       " 0.0011199159283485638,\n",
       " -0.00025016346771315756,\n",
       " 0.00031459241819487005,\n",
       " -0.0003945422425911671,\n",
       " 0.0006035887200172702,\n",
       " 0.0005486670284070017,\n",
       " 0.0004109074650833072,\n",
       " -0.00026367475032622323,\n",
       " 0.0010714446164742514,\n",
       " 0.0004312221394162097,\n",
       " 0.0013193681729361806,\n",
       " 0.00019744938003084245,\n",
       " 0.0027097161982894136,\n",
       " -0.0005870836570290999,\n",
       " -7.096450406993138e-05,\n",
       " -6.398204830034004e-05,\n",
       " -0.001433560065022682,\n",
       " -0.000483683832056922,\n",
       " -0.00038732615087092026,\n",
       " -0.0016883415851053074,\n",
       " -0.00021554280746055587,\n",
       " 0.00085159413433053,\n",
       " -0.0006008251648490365,\n",
       " -0.0008694948547352255,\n",
       " 1.1875073015379933e-05,\n",
       " -0.0005045663952333995,\n",
       " 0.002035176617177434,\n",
       " 0.001099154446577183,\n",
       " 0.0004727706835375156,\n",
       " -0.0005115437348872653,\n",
       " -0.002012088155444902,\n",
       " 0.0003969050353622716,\n",
       " 0.000989010917901767,\n",
       " 0.0012572764346470283,\n",
       " 0.0005347907962067605,\n",
       " -0.00031169072790253327,\n",
       " 0.0008444735434368078,\n",
       " 0.0002939469017128743,\n",
       " -0.0019843032889782647,\n",
       " -0.0014475300926775764,\n",
       " -0.0004977391283069454,\n",
       " 0.0003418844321816522,\n",
       " -0.00027743501723710706,\n",
       " 0.0006586144393135873,\n",
       " -0.0021770885715982763,\n",
       " 0.0007619477547815973,\n",
       " 0.0002595087162538534,\n",
       " -0.0005044708944068332,\n",
       " -0.0007795653834504479,\n",
       " -0.0018534647880356775,\n",
       " 0.0014708368420136564,\n",
       " -0.0004633384610297775,\n",
       " 4.6071095664221295e-05,\n",
       " -0.0006834771510250692,\n",
       " 0.0022414919415014584,\n",
       " 0.0006175109972588883,\n",
       " -0.0015919651448283723,\n",
       " 0.0009544482402938648,\n",
       " 0.0002732451079580783,\n",
       " 0.002812836342269559,\n",
       " 0.00021797210973585612,\n",
       " -0.0015644923614199224,\n",
       " -0.0018397045211248075,\n",
       " -0.00034623464641951596,\n",
       " 0.0003694407788133319,\n",
       " 0.000672410519034411,\n",
       " 0.0006997809801287114,\n",
       " -0.0010623892811570113,\n",
       " 0.002000845870148288,\n",
       " -0.00016034484560205342,\n",
       " 0.00047291393477733035,\n",
       " -0.00019472163767257633,\n",
       " 0.0007135156664610509,\n",
       " 6.689567619601322e-05,\n",
       " -0.00119945987423202,\n",
       " 0.0004383461410537165,\n",
       " 0.0003695601548465155,\n",
       " 0.002420815397293566,\n",
       " -0.0014677509715558257,\n",
       " -0.0014405271724451524,\n",
       " -0.00043556553216646254,\n",
       " -0.0011721866193361852,\n",
       " -0.0006628913225596444,\n",
       " -0.0012615430856616622,\n",
       " -0.0013853019246362064,\n",
       " 0.0020832198807041735,\n",
       " 0.0005897005502137065,\n",
       " 0.0011541000133940826,\n",
       " -0.0007659620107546283,\n",
       " 0.00010109169884485458,\n",
       " -0.003126594738861163,\n",
       " -0.0005666342583158929,\n",
       " -0.0009933730697429533,\n",
       " -0.0003944501525084271,\n",
       " 0.00021134266595011775,\n",
       " 0.0003763004478059273,\n",
       " -0.0011789524928741274,\n",
       " 0.0010234593355921973,\n",
       " 0.0020698978943722995,\n",
       " 0.002090425740193011,\n",
       " 0.0005485186610514753,\n",
       " 5.295975597915947e-05,\n",
       " 0.0005621646680448456,\n",
       " 0.0005137172313771782,\n",
       " -0.00105504699191597,\n",
       " -0.0006352752879113799,\n",
       " 0.0008925560305173136,\n",
       " -0.000986015432154791,\n",
       " 0.0007686863423690959,\n",
       " 0.001422479790056816,\n",
       " -0.001103330712880976,\n",
       " -0.0022803536721901635,\n",
       " -0.0018739295350960056,\n",
       " 0.0009683705175354829,\n",
       " 0.0008513451500327257,\n",
       " -8.85912280555734e-06,\n",
       " -0.0012407679609150596,\n",
       " -0.0021908675976000797,\n",
       " -0.0006970037819852698,\n",
       " -0.0016608994983910857,\n",
       " 0.0005417067424721284,\n",
       " 0.0006312201030126696,\n",
       " 0.0006105370683488071,\n",
       " -0.0024247648491343143,\n",
       " -0.0007936479656509149,\n",
       " 0.0007068742850719761,\n",
       " -0.0007041141406475548,\n",
       " 0.0005968825344959128,\n",
       " 0.0002524137059386894,\n",
       " 0.0019939537990895373,\n",
       " 0.0004726871203142857,\n",
       " 0.0013606199823464338,\n",
       " 0.0016844586427687547,\n",
       " -0.0003391925026333259,\n",
       " 0.0008856758970618855,\n",
       " -0.0010550674563787887,\n",
       " -0.0003599181715947669,\n",
       " -0.0013030080665597382,\n",
       " 0.0005004600491776007,\n",
       " -0.00011218050067023089,\n",
       " -0.0015713980754538809,\n",
       " -0.001275516524060355,\n",
       " 0.0032948566787783518,\n",
       " -0.0002222950380232902,\n",
       " 0.00016989132802726348,\n",
       " 0.0009961263926797637,\n",
       " 0.0005208838673122634,\n",
       " 0.0017806116793264576,\n",
       " -0.00047689067256852236,\n",
       " -0.0007175503868969146,\n",
       " -0.0002222438768662155,\n",
       " 0.0003625128949446277,\n",
       " -0.0005457090608418647,\n",
       " 0.0014362127710172423,\n",
       " -0.0013922587998272534,\n",
       " 0.00019736581680761256,\n",
       " -0.0010274104928048589,\n",
       " 0.0012368833132066215,\n",
       " 0.00017658045982960058,\n",
       " 0.0008033035918778991,\n",
       " -0.0004493513796558629,\n",
       " -0.0016815023805755308,\n",
       " 0.0011611336303207487,\n",
       " 0.0008238297323267113,\n",
       " -0.0006766925183961797,\n",
       " -0.00175036681389025,\n",
       " 9.425761043078962e-05,\n",
       " 0.002214237445696543,\n",
       " 0.0016705227225519287,\n",
       " 0.0014155740760228436,\n",
       " 0.0026477472467772434,\n",
       " 0.0005074476210629036,\n",
       " -0.0008074730366940813,\n",
       " -0.0019845471571603435,\n",
       " 0.0017665359186136015,\n",
       " 0.0005279498863050847,\n",
       " -0.0013235427338680744,\n",
       " 0.0001354531425682426,\n",
       " -0.0008831613261914423,\n",
       " 0.0010232171727820316,\n",
       " 0.002131605923983357,\n",
       " -0.0007590341268859241,\n",
       " -0.00021542513679927155,\n",
       " 0.0022486722204117515,\n",
       " 0.0024414916104698176,\n",
       " 0.0014226366842718524,\n",
       " 0.0002386551443997187,\n",
       " -0.00029104180067672514,\n",
       " -0.00020146193063200202,\n",
       " -0.0006076916553292427,\n",
       " -0.00013303748326816411,\n",
       " 0.0024136265915237626,\n",
       " 0.0008650593719022326,\n",
       " 0.0007206771862804107,\n",
       " 0.000472704174033306,\n",
       " -0.0002089423549971603,\n",
       " -0.002562517590970398,\n",
       " 0.0017391125909903132,\n",
       " -0.0011170551669818785,\n",
       " 0.0013054782977607038,\n",
       " -0.0010829682881348113,\n",
       " 0.0025170588185621096,\n",
       " -0.00016007539684143035,\n",
       " -0.002046273945862334,\n",
       " -0.0006284565478444498,\n",
       " 0.0003695925569126568,\n",
       " 0.0005207048032624811,\n",
       " 0.00112678241882877,\n",
       " 1.8555677958206895e-05,\n",
       " -0.0020462995264408645,\n",
       " -0.00048412040726399097,\n",
       " 0.00034195094168584794,\n",
       " -0.0006763173365776087,\n",
       " -0.0005595238996536217,\n",
       " 0.0007274260060993326,\n",
       " 0.00023182276135756685,\n",
       " 0.0011678892716272954,\n",
       " -0.0007524439066539379,\n",
       " -1.6100795104362353e-05,\n",
       " 0.001154241559262012,\n",
       " -0.0022664160466014244,\n",
       " 0.0014020406235750321,\n",
       " 1.1556168469581407e-05,\n",
       " -0.0004150513293209729,\n",
       " 0.00046592977363583976,\n",
       " 0.0002110817440490187,\n",
       " -0.0013166881809911768,\n",
       " 0.003370509155465759,\n",
       " 0.00030080998144928206,\n",
       " 0.0016841124522725265,\n",
       " 0.002379106548213411,\n",
       " -0.001006962799463551,\n",
       " 0.0016222935734877958,\n",
       " -0.001819190318279304,\n",
       " 0.00026635303689932777,\n",
       " 0.0007068214185430022,\n",
       " -0.0021838936686899985,\n",
       " 0.0013400836096661844,\n",
       " 0.00044560316169964254,\n",
       " 0.00158084564630874,\n",
       " -0.00016743303442962043,\n",
       " 0.001952730981001627,\n",
       " 0.0017873724367486882,\n",
       " 0.00163626360114269,\n",
       " -0.0014543846455544601,\n",
       " -0.001337584387142876,\n",
       " -0.001784851044390648,\n",
       " -0.001653799371960224,\n",
       " 0.0015466240430813544,\n",
       " 0.0007688193613775013,\n",
       " -0.00018093579018317596,\n",
       " -0.0010345106192357206,\n",
       " 0.000403902839478984,\n",
       " -6.416793383773323e-05,\n",
       " 0.001876950601421512,\n",
       " 0.0005483447131174046,\n",
       " -0.0010206906643082797,\n",
       " -0.0004910175944384532,\n",
       " 0.0014153745475102286,\n",
       " 0.00034196287928917046,\n",
       " 0.0016704033465187451,\n",
       " 0.0006857768450357765,\n",
       " -0.0029343159516962425,\n",
       " 0.0011198528295881666,\n",
       " 0.0011678960931149063,\n",
       " 0.00037611285689664875,\n",
       " -0.0010893675067136926,\n",
       " 0.00036970852220204187,\n",
       " 4.897733361500234e-06,\n",
       " 0.0014844964919822484,\n",
       " -0.0012203577857556186,\n",
       " 1.1639731692811295e-05,\n",
       " -0.0004079750780967284,\n",
       " -0.0004493428527963528,\n",
       " 0.0006654519384714647,\n",
       " -0.002500697006813754,\n",
       " 0.0006518281013128124,\n",
       " -0.0014477159782149557,\n",
       " 0.0005828289436177886,\n",
       " 0.002289702331474658,\n",
       " 0.0017526733293885821,\n",
       " -0.0004150155165110053,\n",
       " -0.0012135816799862392,\n",
       " -0.001061979991900372,\n",
       " -0.0010896864112594912,\n",
       " 0.0005002741636402075,\n",
       " 0.0006450417633120237,\n",
       " -0.00029792875561976406,\n",
       " 0.00012862417026988926,\n",
       " -0.0013855696680249302,\n",
       " -0.0005801284872099521,\n",
       " 0.00033521405947023464,\n",
       " 0.0028267722624864128,\n",
       " -0.0005802495686150488,\n",
       " -0.00031865612995310433,\n",
       " 0.0008787207272427378,\n",
       " -0.0005390420988742595,\n",
       " 0.0010439274933963377,\n",
       " -0.0005249168823762418,\n",
       " -0.0010273098758625948,\n",
       " -1.585010543467269e-05,\n",
       " 0.0001563646970670629,\n",
       " 0.0005347890908348474,\n",
       " -0.0011240461496109938,\n",
       " -0.0004770543882711836,\n",
       " -0.0008554549068323231,\n",
       " 0.0006171153509774707,\n",
       " -0.0002567366342261096,\n",
       " -0.0008626061944202734,\n",
       " 0.00242074888778937,\n",
       " 0.0038934436377480452,\n",
       " -0.001372136832519369,\n",
       " -0.0002776294296339965,\n",
       " -0.0004291015094552708,\n",
       " 0.00019069714946810812,\n",
       " -0.0007386529430488259,\n",
       " 0.00034875774414946936,\n",
       " -0.0013305848776542645,\n",
       " 0.000472995792628661,\n",
       " 0.000885640084251918,\n",
       " 0.00043831885510327295,\n",
       " -0.0015851225295547972,\n",
       " -0.0010412031617818701,\n",
       " 0.00043139608735028034,\n",
       " -0.0026933049307558965,\n",
       " 0.0006378853596083617,\n",
       " 0.0004661054269418097,\n",
       " 0.003074549156964701,\n",
       " -0.002280425297810057,\n",
       " -0.00010551183333072645,\n",
       " -0.0010551680733210528,\n",
       " -0.0002429354383895882,\n",
       " 0.0011267483113907156,\n",
       " -0.001461280127357023,\n",
       " 0.0006930116958469568,\n",
       " -5.031216610032474e-05,\n",
       " 0.0013126227638610571,\n",
       " -0.00033250507620290193,\n",
       " -0.0028381253969567005,\n",
       " 0.00040386191055333254,\n",
       " 0.0026477046124796927,\n",
       " -0.00020894917648477118,\n",
       " -0.0005593618893228736,\n",
       " -0.0003392811819722813,\n",
       " -0.00014648225637703405,\n",
       " 0.00018370616683902052,\n",
       " -0.0007453864145206407,\n",
       " -0.0010686043195704126,\n",
       " 0.0012988164519088102,\n",
       " -1.9397657963632353e-06,\n",
       " 0.00010126564677891137,\n",
       " 0.0008168575087885432,\n",
       " 0.0009753700270240806,\n",
       " 0.00202799804363904,\n",
       " 0.001388225784763275,\n",
       " 0.002165962251591047,\n",
       " -0.00093799263309087,\n",
       " -0.0016262924811137197,\n",
       " 4.581870062263238e-05,\n",
       " 0.0001079922967631014,\n",
       " -0.0006832776225124543,\n",
       " 0.000300856026490659,\n",
       " -0.0007590358322578372,\n",
       " -0.0003599181715947669,\n",
       " 0.0005758959436333727,\n",
       " 0.0005553101151679618,\n",
       " 0.0005484657945224874,\n",
       " -0.0015160790321902956,\n",
       " 0.0003902483056260897,\n",
       " 0.0002386824303501761,\n",
       " 0.00041770744605931776,\n",
       " -0.0014061913093002948,\n",
       " -0.0026037318821987843,\n",
       " -0.0014333503042786716,\n",
       " 0.00012175767978968299,\n",
       " -0.00013256338987921445,\n",
       " -0.00023623436898392858,\n",
       " -0.001564574219271253,\n",
       " 0.0019386671578920933,\n",
       " 0.00017666402305283047,\n",
       " 0.002303749100865171,\n",
       " -0.0007315988616593272,\n",
       " 0.0013124283514641538,\n",
       " -0.002541687894322908,\n",
       " 0.0006311518881365608,\n",
       " -0.0005529575546282667,\n",
       " -0.001220223061375314,\n",
       " -2.0625525733591887e-06,\n",
       " 0.00015615152557922618,\n",
       " -0.0026103886119349523,\n",
       " 0.0001012383608284817,\n",
       " 0.0023446956487048337,\n",
       " -0.0010000417370824577,\n",
       " 0.0019318637661722843,\n",
       " -0.00024295590285242086,\n",
       " 0.0008994293424851307,\n",
       " 0.002379200343668064,\n",
       " -0.00022249456653590516,\n",
       " -0.0005733029256554112,\n",
       " -0.0004288525251574943,\n",
       " 9.42200922489228e-05,\n",
       " 0.0002248658861665198,\n",
       " 0.0015811764884578472,\n",
       " -0.0009105539571204746,\n",
       " -0.00028426569490735965,\n",
       " -0.0012686039885387856,\n",
       " -0.0015505308606245521,\n",
       " 0.0007413789800351928,\n",
       " 0.0014158367032958419,\n",
       " -0.001619460098071554,\n",
       " -0.0022527256999385625,\n",
       " 0.001670171415939975,\n",
       " -0.002562357286011549,\n",
       " 0.00041778418779493676,\n",
       " 0.00012840929341015328,\n",
       " 0.0020764454803067073,\n",
       " -0.00031850946796946333,\n",
       " 0.0015535041765367824,\n",
       " -0.0005940933987491348,\n",
       " 0.0005072139851122343,\n",
       " -0.0006419934110360598,\n",
       " 0.0006865118603258114,\n",
       " -0.0019636526563805573,\n",
       " -0.0001605818922965352,\n",
       " -0.0005528739914050368,\n",
       " -0.0014749960545984153,\n",
       " 0.002035406842384291,\n",
       " -0.0020255670359918265,\n",
       " -0.0015162939090500316,\n",
       " 0.00012178667111202579,\n",
       " -0.0024044467640576273,\n",
       " 0.0011815642699430362,\n",
       " 0.00012181907317818097,\n",
       " -0.00045636282674779705,\n",
       " -0.001901751919744496,\n",
       " 0.001071702127631552,\n",
       " 0.001353610240626399,\n",
       " 0.0007895910753803054,\n",
       " -0.0013303086074060305,\n",
       " 0.0005759147027243061,\n",
       " 0.0017461155112227372,\n",
       " -0.0013371955623490694,\n",
       " -0.0004219314627764009,\n",
       " -0.00048397374528036385,\n",
       " 0.001594660485120497,\n",
       " 0.0031089174221757138,\n",
       " -0.0003603121125042713,\n",
       " 0.0009272022713484596,\n",
       " 0.0036320889511524818,\n",
       " -0.0024730894990249996,\n",
       " 0.0028126538674759782,\n",
       " -0.0002841718994527065,\n",
       " -0.0003873824281437066,\n",
       " -0.0005870938892605232,\n",
       " -0.001440615851784094,\n",
       " -0.0021493923844705803,\n",
       " 0.002000707735024171,\n",
       " -0.00014650783695556446,\n",
       " 0.0019456189169674287,\n",
       " 0.0006241387356727274,\n",
       " 0.0004934281376228339,\n",
       " -0.0009656649450119348,\n",
       " -7.795889744284523e-05,\n",
       " 0.00047254898519016875,\n",
       " -0.0014196633683596083,\n",
       " 0.0011407507411117651,\n",
       " 8.070028277633312e-05,\n",
       " -0.00047012138828675387,\n",
       " -0.00030483958576944803,\n",
       " 3.208571966221985e-05,\n",
       " -0.0007386904612306927,\n",
       " -0.0007110232654253396,\n",
       " 0.00036980402302860815,\n",
       " 0.0005556017337633168,\n",
       " -0.0012134145535397795,\n",
       " -0.00038770815417710214,\n",
       " 0.0011336727845156214,\n",
       " -0.0013307247181502668,\n",
       " 0.0006518127529656914,\n",
       " 0.002455117153000369,\n",
       " -0.0012068038688449745,\n",
       " 0.0019252974211469431,\n",
       " -0.0002909445944782735,\n",
       " 0.0002734412257268809,\n",
       " 0.0001356867785188981,\n",
       " -1.595583849263449e-05,\n",
       " -0.0007660319310026503,\n",
       " 0.0012368969561818294,\n",
       " 0.0008237870980291467,\n",
       " -0.0010137013870510775,\n",
       " 0.0008857799247479481,\n",
       " 0.0027991954513918865,\n",
       " 0.000844437730626868,\n",
       " 0.001635924232134059,\n",
       " -0.0026036278545127217,\n",
       " 0.0016086356288910891,\n",
       " 0.0008581076128268833,\n",
       " -0.00026351956148309985,\n",
       " 0.0017665751421673537,\n",
       " -0.0010343162068388312,\n",
       " -0.00031870729111017904,\n",
       " -0.00018788584388661211,\n",
       " -3.654678307374315e-05,\n",
       " 0.0009065414065193289,\n",
       " -0.0010002105689008306,\n",
       " ...]"
      ]
     },
     "execution_count": 37,
     "metadata": {},
     "output_type": "execute_result"
    }
   ],
   "source": [
    "p_diffs"
   ]
  },
  {
   "cell_type": "markdown",
   "metadata": {},
   "source": [
    "i. Plot a histogram of the **p_diffs**.  Does this plot look like what you expected?  Use the matching problem in the classroom to assure you fully understand what was computed here."
   ]
  },
  {
   "cell_type": "code",
   "execution_count": 26,
   "metadata": {},
   "outputs": [
    {
     "data": {
      "image/png": "[encoded data removed]",
      "text/plain": [
       "<Figure size 432x288 with 1 Axes>"
      ]
     },
     "metadata": {
      "needs_background": "light"
     },
     "output_type": "display_data"
    }
   ],
   "source": [
    "plt.xlabel('Probability Difference')\n",
    "plt.ylabel('Frequency')\n",
    "plt.title('Simulated Page Difference Under the Null')\n",
    "plt.hist(p_diffs);\n",
    "\n",
    "#the plot does look like as expected as the Null hypothesis states that there is no difference in the conversion \n",
    "#rates between old and new. Therefore, this means that the majority of the probability difference should be around 0. "
   ]
  },
  {
   "cell_type": "markdown",
   "metadata": {},
   "source": [
    "j. What proportion of the **p_diffs** are greater than the actual difference observed in **ab_data.csv**?"
   ]
  },
  {
   "cell_type": "code",
   "execution_count": 54,
   "metadata": {},
   "outputs": [
    {
     "data": {
      "text/plain": [
       "-0.0016367945992569882"
      ]
     },
     "execution_count": 54,
     "metadata": {},
     "output_type": "execute_result"
    }
   ],
   "source": [
    "obs_diff = df[df['landing_page'] == 'new_page']['converted'].mean() -  df[df['landing_page'] == 'old_page']['converted'].mean()\n",
    "obs_diff\n",
    "\n",
    "#the observed difference shows that the old page has better conversion rates than the new page "
   ]
  },
  {
   "cell_type": "code",
   "execution_count": 55,
   "metadata": {},
   "outputs": [
    {
     "data": {
      "text/plain": [
       "0.9141"
      ]
     },
     "execution_count": 55,
     "metadata": {},
     "output_type": "execute_result"
    }
   ],
   "source": [
    "#calculate the p-value (the right of the actual observed difference)\n",
    "\n",
    "(p_diffs > obs_diff).mean()"
   ]
  },
  {
   "cell_type": "code",
   "execution_count": 57,
   "metadata": {},
   "outputs": [
    {
     "data": {
      "image/png": "[encoded data removed]",
      "text/plain": [
       "<Figure size 432x288 with 1 Axes>"
      ]
     },
     "metadata": {
      "needs_background": "light"
     },
     "output_type": "display_data"
    }
   ],
   "source": [
    "# plot line for observed statistic against the simulated null\n",
    "plt.hist(p_diffs)\n",
    "plt.axvline(x=obs_diff, color='r', label=\"Observed difference\")\n",
    "plt.xlabel('Probability Difference')\n",
    "plt.ylabel('Frequency')\n",
    "plt.title('Simulated Page Difference Under the Null');\n",
    "plt.legend()\n",
    "plt.show()"
   ]
  },
  {
   "cell_type": "markdown",
   "metadata": {},
   "source": [
    "k. Please explain using the vocabulary you've learned in this course what you just computed in part **j.**  What is this value called in scientific studies?  What does this value mean in terms of whether or not there is a difference between the new and old pages?"
   ]
  },
  {
   "cell_type": "markdown",
   "metadata": {},
   "source": [
    "We are calculating the p-value, the pvalue tells us whether to reject the null hypothesis or not. In this case, the new page does not have a better conversion rate than the old page, therefore, the difference in conversion rates is negative. Also, it was found that p-value is > 0.9 which is close to 1. Therefore, we are over 90% confident that the actual conversion difference is not statistically significant and we do not have enough evidence to reject the null hypothesis (no other distribution better describes the data better than the null). "
   ]
  },
  {
   "cell_type": "markdown",
   "metadata": {},
   "source": [
    "l. We could also use a built-in to achieve similar results.  Though using the built-in might be easier to code, the above portions are a walkthrough of the ideas that are critical to correctly thinking about statistical significance. Fill in the below to calculate the number of conversions for each page, as well as the number of individuals who received each page. Let `n_old` and `n_new` refer the the number of rows associated with the old page and new pages, respectively."
   ]
  },
  {
   "cell_type": "code",
   "execution_count": 58,
   "metadata": {},
   "outputs": [
    {
     "name": "stdout",
     "output_type": "stream",
     "text": [
      "17489 17264 145274 145310\n"
     ]
    }
   ],
   "source": [
    "import statsmodels.api as sm\n",
    "import warnings\n",
    "warnings.filterwarnings(\"ignore\")\n",
    "\n",
    "convert_old = sum(df2.query(\"landing_page == 'old_page'\")['converted'])\n",
    "convert_new = sum(df2.query(\"landing_page == 'new_page'\")['converted'])\n",
    "n_old = len(df2.query(\"landing_page == 'old_page'\"))\n",
    "n_new = len(df2.query(\"landing_page == 'new_page'\"))\n",
    "\n",
    "print(convert_old, convert_new, n_old, n_new)"
   ]
  },
  {
   "cell_type": "markdown",
   "metadata": {},
   "source": [
    "m. Now use `stats.proportions_ztest` to compute your test statistic and p-value."
   ]
  },
  {
   "cell_type": "code",
   "execution_count": 78,
   "metadata": {},
   "outputs": [
    {
     "name": "stdout",
     "output_type": "stream",
     "text": [
      "z_score :  1.3109241984234394\n",
      "p_value :  0.9050583127590245\n"
     ]
    }
   ],
   "source": [
    "#what is the z-score and p-value?\n",
    "\n",
    "z_score, p_value = sm.stats.proportions_ztest([convert_old, convert_new], [n_old, n_new], alternative='smaller')\n",
    "print('z_score : ',z_score)\n",
    "print('p_value : ',p_value)"
   ]
  },
  {
   "cell_type": "code",
   "execution_count": 79,
   "metadata": {},
   "outputs": [
    {
     "data": {
      "text/plain": [
       "0.9050583127590245"
      ]
     },
     "execution_count": 79,
     "metadata": {},
     "output_type": "execute_result"
    }
   ],
   "source": [
    "norm.cdf(z_score)"
   ]
  },
  {
   "cell_type": "code",
   "execution_count": 61,
   "metadata": {},
   "outputs": [
    {
     "data": {
      "text/plain": [
       "1.6448536269514722"
      ]
     },
     "execution_count": 61,
     "metadata": {},
     "output_type": "execute_result"
    }
   ],
   "source": [
    "#what is the critical value that gives 95% confidence? \n",
    "from scipy.stats import norm\n",
    "\n",
    "norm.ppf(1-(0.05))"
   ]
  },
  {
   "cell_type": "markdown",
   "metadata": {},
   "source": [
    "n. What do the z-score and p-value you computed in the previous question mean for the conversion rates of the old and new pages?  Do they agree with the findings in parts **j.** and **k.**?"
   ]
  },
  {
   "cell_type": "markdown",
   "metadata": {},
   "source": [
    "The z-score gives an indication of how far the statistic is to the mean of the distribution. Therefore, we need to calculate the critical value (a cut off value) that we are 95% confident that the data did come from the null or not. The critical value was found to be 1.64, and the z-score is below this value. In addition, the p-value was found to be close to one. Taking both z-score and p-value into account, there is enough evidence to shows that we cannot reject the null hypotesis.\n",
    "\n",
    "Note: the reason why we have the z-score as positive instead of negative (like shown in the p_diffs) is because the z-score table will only show the percentage of values below the z-score. Therefore, if the z-score was negative, then the p-value will be 0.09. This would be untrue as we want to look at the p-value on the right of the z-score. We can do this by making the z-score positive and gain the p-value of 0.91, which is similar to the value found previously. "
   ]
  },
  {
   "cell_type": "markdown",
   "metadata": {},
   "source": [
    "<a id='regression'></a>\n",
    "### Part III - A regression approach\n",
    "\n",
    "`1.` In this final part, you will see that the result you achieved in the A/B test in Part II above can also be achieved by performing regression.<br><br> \n",
    "\n",
    "a. Since each row is either a conversion or no conversion, what type of regression should you be performing in this case?"
   ]
  },
  {
   "cell_type": "markdown",
   "metadata": {},
   "source": [
    "**Logistic Regression**"
   ]
  },
  {
   "cell_type": "markdown",
   "metadata": {},
   "source": [
    "b. The goal is to use **statsmodels** to fit the regression model you specified in part **a.** to see if there is a significant difference in conversion based on which page a customer receives. However, you first need to create in df2 a column for the intercept, and create a dummy variable column for which page each user received.  Add an **intercept** column, as well as an **ab_page** column, which is 1 when an individual receives the **treatment** and 0 if **control**."
   ]
  },
  {
   "cell_type": "code",
   "execution_count": 80,
   "metadata": {},
   "outputs": [
    {
     "data": {
      "text/html": [
       "<div>\n",
       "<style scoped>\n",
       "    .dataframe tbody tr th:only-of-type {\n",
       "        vertical-align: middle;\n",
       "    }\n",
       "\n",
       "    .dataframe tbody tr th {\n",
       "        vertical-align: top;\n",
       "    }\n",
       "\n",
       "    .dataframe thead th {\n",
       "        text-align: right;\n",
       "    }\n",
       "</style>\n",
       "<table border=\"1\" class=\"dataframe\">\n",
       "  <thead>\n",
       "    <tr style=\"text-align: right;\">\n",
       "      <th></th>\n",
       "      <th>user_id</th>\n",
       "      <th>timestamp</th>\n",
       "      <th>group</th>\n",
       "      <th>landing_page</th>\n",
       "      <th>converted</th>\n",
       "      <th>intercept</th>\n",
       "      <th>ab_page</th>\n",
       "    </tr>\n",
       "  </thead>\n",
       "  <tbody>\n",
       "    <tr>\n",
       "      <th>0</th>\n",
       "      <td>851104</td>\n",
       "      <td>2017-01-21 22:11:48.556739</td>\n",
       "      <td>control</td>\n",
       "      <td>old_page</td>\n",
       "      <td>0</td>\n",
       "      <td>1</td>\n",
       "      <td>0</td>\n",
       "    </tr>\n",
       "    <tr>\n",
       "      <th>1</th>\n",
       "      <td>804228</td>\n",
       "      <td>2017-01-12 08:01:45.159739</td>\n",
       "      <td>control</td>\n",
       "      <td>old_page</td>\n",
       "      <td>0</td>\n",
       "      <td>1</td>\n",
       "      <td>0</td>\n",
       "    </tr>\n",
       "    <tr>\n",
       "      <th>4</th>\n",
       "      <td>864975</td>\n",
       "      <td>2017-01-21 01:52:26.210827</td>\n",
       "      <td>control</td>\n",
       "      <td>old_page</td>\n",
       "      <td>1</td>\n",
       "      <td>1</td>\n",
       "      <td>0</td>\n",
       "    </tr>\n",
       "    <tr>\n",
       "      <th>5</th>\n",
       "      <td>936923</td>\n",
       "      <td>2017-01-10 15:20:49.083499</td>\n",
       "      <td>control</td>\n",
       "      <td>old_page</td>\n",
       "      <td>0</td>\n",
       "      <td>1</td>\n",
       "      <td>0</td>\n",
       "    </tr>\n",
       "    <tr>\n",
       "      <th>7</th>\n",
       "      <td>719014</td>\n",
       "      <td>2017-01-17 01:48:29.539573</td>\n",
       "      <td>control</td>\n",
       "      <td>old_page</td>\n",
       "      <td>0</td>\n",
       "      <td>1</td>\n",
       "      <td>0</td>\n",
       "    </tr>\n",
       "  </tbody>\n",
       "</table>\n",
       "</div>"
      ],
      "text/plain": [
       "   user_id                   timestamp    group landing_page  converted  \\\n",
       "0   851104  2017-01-21 22:11:48.556739  control     old_page          0   \n",
       "1   804228  2017-01-12 08:01:45.159739  control     old_page          0   \n",
       "4   864975  2017-01-21 01:52:26.210827  control     old_page          1   \n",
       "5   936923  2017-01-10 15:20:49.083499  control     old_page          0   \n",
       "7   719014  2017-01-17 01:48:29.539573  control     old_page          0   \n",
       "\n",
       "   intercept  ab_page  \n",
       "0          1        0  \n",
       "1          1        0  \n",
       "4          1        0  \n",
       "5          1        0  \n",
       "7          1        0  "
      ]
     },
     "execution_count": 80,
     "metadata": {},
     "output_type": "execute_result"
    }
   ],
   "source": [
    "df2['intercept'] = 1\n",
    "df2[['control', 'ab_page']]=pd.get_dummies(df2['group'])\n",
    "df2.drop(labels=['control'], axis=1, inplace=True)\n",
    "df2.head()\n",
    "\n",
    "# we need to add a column for our intercept as statsmodels does not automatically do this. If we set the intercept column = 1, \n",
    "#then the coefficent of our intercept = 1.  "
   ]
  },
  {
   "cell_type": "markdown",
   "metadata": {},
   "source": [
    "c. Use **statsmodels** to instantiate your regression model on the two columns you created in part b., then fit the model using the two columns you created in part **b.** to predict whether or not an individual converts. "
   ]
  },
  {
   "cell_type": "code",
   "execution_count": 81,
   "metadata": {},
   "outputs": [
    {
     "name": "stdout",
     "output_type": "stream",
     "text": [
      "Optimization terminated successfully.\n",
      "         Current function value: 0.366118\n",
      "         Iterations 6\n"
     ]
    }
   ],
   "source": [
    "import statsmodels.api as sm\n",
    "import scipy.stats as stats\n",
    "logit = sm.Logit(df2['converted'],df2[['intercept' ,'ab_page']])\n",
    "results = logit.fit()"
   ]
  },
  {
   "cell_type": "markdown",
   "metadata": {},
   "source": [
    "d. Provide the summary of your model below, and use it as necessary to answer the following questions."
   ]
  },
  {
   "cell_type": "code",
   "execution_count": 82,
   "metadata": {},
   "outputs": [
    {
     "data": {
      "text/html": [
       "<table class=\"simpletable\">\n",
       "<caption>Logit Regression Results</caption>\n",
       "<tr>\n",
       "  <th>Dep. Variable:</th>       <td>converted</td>    <th>  No. Observations:  </th>   <td>290584</td>   \n",
       "</tr>\n",
       "<tr>\n",
       "  <th>Model:</th>                 <td>Logit</td>      <th>  Df Residuals:      </th>   <td>290582</td>   \n",
       "</tr>\n",
       "<tr>\n",
       "  <th>Method:</th>                 <td>MLE</td>       <th>  Df Model:          </th>   <td>     1</td>   \n",
       "</tr>\n",
       "<tr>\n",
       "  <th>Date:</th>            <td>Mon, 22 Mar 2021</td> <th>  Pseudo R-squ.:     </th>  <td>8.077e-06</td> \n",
       "</tr>\n",
       "<tr>\n",
       "  <th>Time:</th>                <td>14:57:57</td>     <th>  Log-Likelihood:    </th> <td>-1.0639e+05</td>\n",
       "</tr>\n",
       "<tr>\n",
       "  <th>converged:</th>             <td>True</td>       <th>  LL-Null:           </th> <td>-1.0639e+05</td>\n",
       "</tr>\n",
       "<tr>\n",
       "  <th>Covariance Type:</th>     <td>nonrobust</td>    <th>  LLR p-value:       </th>   <td>0.1899</td>   \n",
       "</tr>\n",
       "</table>\n",
       "<table class=\"simpletable\">\n",
       "<tr>\n",
       "      <td></td>         <th>coef</th>     <th>std err</th>      <th>z</th>      <th>P>|z|</th>  <th>[0.025</th>    <th>0.975]</th>  \n",
       "</tr>\n",
       "<tr>\n",
       "  <th>intercept</th> <td>   -1.9888</td> <td>    0.008</td> <td> -246.669</td> <td> 0.000</td> <td>   -2.005</td> <td>   -1.973</td>\n",
       "</tr>\n",
       "<tr>\n",
       "  <th>ab_page</th>   <td>   -0.0150</td> <td>    0.011</td> <td>   -1.311</td> <td> 0.190</td> <td>   -0.037</td> <td>    0.007</td>\n",
       "</tr>\n",
       "</table>"
      ],
      "text/plain": [
       "<class 'statsmodels.iolib.summary.Summary'>\n",
       "\"\"\"\n",
       "                           Logit Regression Results                           \n",
       "==============================================================================\n",
       "Dep. Variable:              converted   No. Observations:               290584\n",
       "Model:                          Logit   Df Residuals:                   290582\n",
       "Method:                           MLE   Df Model:                            1\n",
       "Date:                Mon, 22 Mar 2021   Pseudo R-squ.:               8.077e-06\n",
       "Time:                        14:57:57   Log-Likelihood:            -1.0639e+05\n",
       "converged:                       True   LL-Null:                   -1.0639e+05\n",
       "Covariance Type:            nonrobust   LLR p-value:                    0.1899\n",
       "==============================================================================\n",
       "                 coef    std err          z      P>|z|      [0.025      0.975]\n",
       "------------------------------------------------------------------------------\n",
       "intercept     -1.9888      0.008   -246.669      0.000      -2.005      -1.973\n",
       "ab_page       -0.0150      0.011     -1.311      0.190      -0.037       0.007\n",
       "==============================================================================\n",
       "\"\"\""
      ]
     },
     "execution_count": 82,
     "metadata": {},
     "output_type": "execute_result"
    }
   ],
   "source": [
    "stats.chisqprob = lambda chisq, df: stats.chi2.sf(chisq, df)\n",
    "results.summary()\n"
   ]
  },
  {
   "cell_type": "code",
   "execution_count": 84,
   "metadata": {},
   "outputs": [
    {
     "data": {
      "text/plain": [
       "0.9851119396030626"
      ]
     },
     "execution_count": 84,
     "metadata": {},
     "output_type": "execute_result"
    }
   ],
   "source": [
    "np.exp(-0.0150) \n",
    "#when the value is less than 1, it is better to show the reciprocal. It changes the direction of a unit increase to a unit decrease"
   ]
  },
  {
   "cell_type": "code",
   "execution_count": 85,
   "metadata": {},
   "outputs": [
    {
     "data": {
      "text/plain": [
       "1.015113064615719"
      ]
     },
     "execution_count": 85,
     "metadata": {},
     "output_type": "execute_result"
    }
   ],
   "source": [
    "1/np.exp(-0.0150)\n",
    "\n",
    "#For each 1 unit decrease when the individual receives the new page, the conversion rate is 1.02 times as likely. "
   ]
  },
  {
   "cell_type": "markdown",
   "metadata": {},
   "source": [
    "e. What is the p-value associated with **ab_page**? Why does it differ from the value you found in **Part II**?<br><br>  **Hint**: What are the null and alternative hypotheses associated with your regression model, and how do they compare to the null and alternative hypotheses in **Part II**?"
   ]
  },
  {
   "cell_type": "markdown",
   "metadata": {},
   "source": [
    "The null hypothesis is p_new - p_old = 0 and the alternative hypothesis is p_new - p_old != 0. With this new hypothesis in the regression model compared to the hypotheses shown in part II, will mean that there are different p-values. In part II, the p-values were calculated using a one sided z-test. Whereas, in the logisitic regression, a two sided test will be used. The two-tailed test uses both the positive and negative tails of the distribution. \n",
    "In part II, the p-value was found to be 0.9 which showed that the probability difference in conversions likely came from the null hypothesis.\n",
    "The LLR p-value is > 0.05 (0.1899), which shows that there is a poor correlation between the data and the regression model. The p-value associated with ab_page was found to be 0.19. This shows that the p-value is too large to be found as being statistically significant. Therefore, the new page does not produce more conversions than the old page. "
   ]
  },
  {
   "cell_type": "markdown",
   "metadata": {},
   "source": [
    "f. Now, you are considering other things that might influence whether or not an individual converts.  Discuss why it is a good idea to consider other factors to add into your regression model.  Are there any disadvantages to adding additional terms into your regression model?"
   ]
  },
  {
   "cell_type": "markdown",
   "metadata": {},
   "source": [
    "There are many factors we may need to consider which affect the rate of conversion. For example, their age, gender, how much time they spent on a website previously may give a bias towards the older version of the website. These factors are important to note, however, there was disadvantages into adding additional terms because they may skew the results which leads to unreliable results compared to previous analysis.\n"
   ]
  },
  {
   "cell_type": "markdown",
   "metadata": {},
   "source": [
    "g. Now along with testing if the conversion rate changes for different pages, also add an effect based on which country a user lives in. You will need to read in the **countries.csv** dataset and merge together your datasets on the appropriate rows."
   ]
  },
  {
   "cell_type": "code",
   "execution_count": 86,
   "metadata": {},
   "outputs": [
    {
     "data": {
      "text/html": [
       "<div>\n",
       "<style scoped>\n",
       "    .dataframe tbody tr th:only-of-type {\n",
       "        vertical-align: middle;\n",
       "    }\n",
       "\n",
       "    .dataframe tbody tr th {\n",
       "        vertical-align: top;\n",
       "    }\n",
       "\n",
       "    .dataframe thead th {\n",
       "        text-align: right;\n",
       "    }\n",
       "</style>\n",
       "<table border=\"1\" class=\"dataframe\">\n",
       "  <thead>\n",
       "    <tr style=\"text-align: right;\">\n",
       "      <th></th>\n",
       "      <th>country</th>\n",
       "      <th>timestamp</th>\n",
       "      <th>group</th>\n",
       "      <th>landing_page</th>\n",
       "      <th>converted</th>\n",
       "      <th>intercept</th>\n",
       "      <th>ab_page</th>\n",
       "      <th>control</th>\n",
       "    </tr>\n",
       "    <tr>\n",
       "      <th>user_id</th>\n",
       "      <th></th>\n",
       "      <th></th>\n",
       "      <th></th>\n",
       "      <th></th>\n",
       "      <th></th>\n",
       "      <th></th>\n",
       "      <th></th>\n",
       "      <th></th>\n",
       "    </tr>\n",
       "  </thead>\n",
       "  <tbody>\n",
       "    <tr>\n",
       "      <th>834778</th>\n",
       "      <td>UK</td>\n",
       "      <td>2017-01-14 23:08:43.304998</td>\n",
       "      <td>control</td>\n",
       "      <td>old_page</td>\n",
       "      <td>0</td>\n",
       "      <td>1</td>\n",
       "      <td>0</td>\n",
       "      <td>1</td>\n",
       "    </tr>\n",
       "    <tr>\n",
       "      <th>928468</th>\n",
       "      <td>US</td>\n",
       "      <td>2017-01-23 14:44:16.387854</td>\n",
       "      <td>treatment</td>\n",
       "      <td>new_page</td>\n",
       "      <td>0</td>\n",
       "      <td>1</td>\n",
       "      <td>1</td>\n",
       "      <td>0</td>\n",
       "    </tr>\n",
       "    <tr>\n",
       "      <th>822059</th>\n",
       "      <td>UK</td>\n",
       "      <td>2017-01-16 14:04:14.719771</td>\n",
       "      <td>treatment</td>\n",
       "      <td>new_page</td>\n",
       "      <td>1</td>\n",
       "      <td>1</td>\n",
       "      <td>1</td>\n",
       "      <td>0</td>\n",
       "    </tr>\n",
       "    <tr>\n",
       "      <th>711597</th>\n",
       "      <td>UK</td>\n",
       "      <td>2017-01-22 03:14:24.763511</td>\n",
       "      <td>control</td>\n",
       "      <td>old_page</td>\n",
       "      <td>0</td>\n",
       "      <td>1</td>\n",
       "      <td>0</td>\n",
       "      <td>1</td>\n",
       "    </tr>\n",
       "    <tr>\n",
       "      <th>710616</th>\n",
       "      <td>UK</td>\n",
       "      <td>2017-01-16 13:14:44.000513</td>\n",
       "      <td>treatment</td>\n",
       "      <td>new_page</td>\n",
       "      <td>0</td>\n",
       "      <td>1</td>\n",
       "      <td>1</td>\n",
       "      <td>0</td>\n",
       "    </tr>\n",
       "  </tbody>\n",
       "</table>\n",
       "</div>"
      ],
      "text/plain": [
       "        country                   timestamp      group landing_page  \\\n",
       "user_id                                                               \n",
       "834778       UK  2017-01-14 23:08:43.304998    control     old_page   \n",
       "928468       US  2017-01-23 14:44:16.387854  treatment     new_page   \n",
       "822059       UK  2017-01-16 14:04:14.719771  treatment     new_page   \n",
       "711597       UK  2017-01-22 03:14:24.763511    control     old_page   \n",
       "710616       UK  2017-01-16 13:14:44.000513  treatment     new_page   \n",
       "\n",
       "         converted  intercept  ab_page  control  \n",
       "user_id                                          \n",
       "834778           0          1        0        1  \n",
       "928468           0          1        1        0  \n",
       "822059           1          1        1        0  \n",
       "711597           0          1        0        1  \n",
       "710616           0          1        1        0  "
      ]
     },
     "execution_count": 86,
     "metadata": {},
     "output_type": "execute_result"
    }
   ],
   "source": [
    "countries_df = pd.read_csv('./countries.csv')\n",
    "df_new = countries_df.set_index('user_id').join(df2.set_index('user_id'), how='inner')\n",
    "df_new.head()\n"
   ]
  },
  {
   "cell_type": "code",
   "execution_count": 87,
   "metadata": {},
   "outputs": [
    {
     "data": {
      "text/html": [
       "<div>\n",
       "<style scoped>\n",
       "    .dataframe tbody tr th:only-of-type {\n",
       "        vertical-align: middle;\n",
       "    }\n",
       "\n",
       "    .dataframe tbody tr th {\n",
       "        vertical-align: top;\n",
       "    }\n",
       "\n",
       "    .dataframe thead th {\n",
       "        text-align: right;\n",
       "    }\n",
       "</style>\n",
       "<table border=\"1\" class=\"dataframe\">\n",
       "  <thead>\n",
       "    <tr style=\"text-align: right;\">\n",
       "      <th></th>\n",
       "      <th>country</th>\n",
       "      <th>timestamp</th>\n",
       "      <th>group</th>\n",
       "      <th>landing_page</th>\n",
       "      <th>converted</th>\n",
       "      <th>intercept</th>\n",
       "      <th>ab_page</th>\n",
       "      <th>control</th>\n",
       "      <th>CA</th>\n",
       "      <th>UK</th>\n",
       "      <th>US</th>\n",
       "    </tr>\n",
       "    <tr>\n",
       "      <th>user_id</th>\n",
       "      <th></th>\n",
       "      <th></th>\n",
       "      <th></th>\n",
       "      <th></th>\n",
       "      <th></th>\n",
       "      <th></th>\n",
       "      <th></th>\n",
       "      <th></th>\n",
       "      <th></th>\n",
       "      <th></th>\n",
       "      <th></th>\n",
       "    </tr>\n",
       "  </thead>\n",
       "  <tbody>\n",
       "    <tr>\n",
       "      <th>834778</th>\n",
       "      <td>UK</td>\n",
       "      <td>2017-01-14 23:08:43.304998</td>\n",
       "      <td>control</td>\n",
       "      <td>old_page</td>\n",
       "      <td>0</td>\n",
       "      <td>1</td>\n",
       "      <td>0</td>\n",
       "      <td>1</td>\n",
       "      <td>0</td>\n",
       "      <td>1</td>\n",
       "      <td>0</td>\n",
       "    </tr>\n",
       "    <tr>\n",
       "      <th>928468</th>\n",
       "      <td>US</td>\n",
       "      <td>2017-01-23 14:44:16.387854</td>\n",
       "      <td>treatment</td>\n",
       "      <td>new_page</td>\n",
       "      <td>0</td>\n",
       "      <td>1</td>\n",
       "      <td>1</td>\n",
       "      <td>0</td>\n",
       "      <td>0</td>\n",
       "      <td>0</td>\n",
       "      <td>1</td>\n",
       "    </tr>\n",
       "    <tr>\n",
       "      <th>822059</th>\n",
       "      <td>UK</td>\n",
       "      <td>2017-01-16 14:04:14.719771</td>\n",
       "      <td>treatment</td>\n",
       "      <td>new_page</td>\n",
       "      <td>1</td>\n",
       "      <td>1</td>\n",
       "      <td>1</td>\n",
       "      <td>0</td>\n",
       "      <td>0</td>\n",
       "      <td>1</td>\n",
       "      <td>0</td>\n",
       "    </tr>\n",
       "    <tr>\n",
       "      <th>711597</th>\n",
       "      <td>UK</td>\n",
       "      <td>2017-01-22 03:14:24.763511</td>\n",
       "      <td>control</td>\n",
       "      <td>old_page</td>\n",
       "      <td>0</td>\n",
       "      <td>1</td>\n",
       "      <td>0</td>\n",
       "      <td>1</td>\n",
       "      <td>0</td>\n",
       "      <td>1</td>\n",
       "      <td>0</td>\n",
       "    </tr>\n",
       "    <tr>\n",
       "      <th>710616</th>\n",
       "      <td>UK</td>\n",
       "      <td>2017-01-16 13:14:44.000513</td>\n",
       "      <td>treatment</td>\n",
       "      <td>new_page</td>\n",
       "      <td>0</td>\n",
       "      <td>1</td>\n",
       "      <td>1</td>\n",
       "      <td>0</td>\n",
       "      <td>0</td>\n",
       "      <td>1</td>\n",
       "      <td>0</td>\n",
       "    </tr>\n",
       "  </tbody>\n",
       "</table>\n",
       "</div>"
      ],
      "text/plain": [
       "        country                   timestamp      group landing_page  \\\n",
       "user_id                                                               \n",
       "834778       UK  2017-01-14 23:08:43.304998    control     old_page   \n",
       "928468       US  2017-01-23 14:44:16.387854  treatment     new_page   \n",
       "822059       UK  2017-01-16 14:04:14.719771  treatment     new_page   \n",
       "711597       UK  2017-01-22 03:14:24.763511    control     old_page   \n",
       "710616       UK  2017-01-16 13:14:44.000513  treatment     new_page   \n",
       "\n",
       "         converted  intercept  ab_page  control  CA  UK  US  \n",
       "user_id                                                      \n",
       "834778           0          1        0        1   0   1   0  \n",
       "928468           0          1        1        0   0   0   1  \n",
       "822059           1          1        1        0   0   1   0  \n",
       "711597           0          1        0        1   0   1   0  \n",
       "710616           0          1        1        0   0   1   0  "
      ]
     },
     "execution_count": 87,
     "metadata": {},
     "output_type": "execute_result"
    }
   ],
   "source": [
    "### Create the necessary dummy variables\n",
    "df_new[['CA','UK','US']]=pd.get_dummies(df_new['country'])\n",
    "df_new.head()"
   ]
  },
  {
   "cell_type": "code",
   "execution_count": 88,
   "metadata": {},
   "outputs": [
    {
     "data": {
      "text/plain": [
       "0.5000619442226688"
      ]
     },
     "execution_count": 88,
     "metadata": {},
     "output_type": "execute_result"
    }
   ],
   "source": [
    "#mean of conversion rate\n",
    "df_new.ab_page.mean()"
   ]
  },
  {
   "cell_type": "code",
   "execution_count": 89,
   "metadata": {},
   "outputs": [
    {
     "data": {
      "text/html": [
       "<div>\n",
       "<style scoped>\n",
       "    .dataframe tbody tr th:only-of-type {\n",
       "        vertical-align: middle;\n",
       "    }\n",
       "\n",
       "    .dataframe tbody tr th {\n",
       "        vertical-align: top;\n",
       "    }\n",
       "\n",
       "    .dataframe thead th {\n",
       "        text-align: right;\n",
       "    }\n",
       "</style>\n",
       "<table border=\"1\" class=\"dataframe\">\n",
       "  <thead>\n",
       "    <tr style=\"text-align: right;\">\n",
       "      <th></th>\n",
       "      <th>country</th>\n",
       "      <th>converted</th>\n",
       "      <th>intercept</th>\n",
       "      <th>ab_page</th>\n",
       "      <th>control</th>\n",
       "      <th>CA</th>\n",
       "      <th>UK</th>\n",
       "      <th>US</th>\n",
       "    </tr>\n",
       "  </thead>\n",
       "  <tbody>\n",
       "    <tr>\n",
       "      <th>0</th>\n",
       "      <td>CA</td>\n",
       "      <td>0.115318</td>\n",
       "      <td>1.0</td>\n",
       "      <td>0.503552</td>\n",
       "      <td>0.496448</td>\n",
       "      <td>1.0</td>\n",
       "      <td>0.0</td>\n",
       "      <td>0.0</td>\n",
       "    </tr>\n",
       "    <tr>\n",
       "      <th>1</th>\n",
       "      <td>UK</td>\n",
       "      <td>0.120594</td>\n",
       "      <td>1.0</td>\n",
       "      <td>0.498247</td>\n",
       "      <td>0.501753</td>\n",
       "      <td>0.0</td>\n",
       "      <td>1.0</td>\n",
       "      <td>0.0</td>\n",
       "    </tr>\n",
       "    <tr>\n",
       "      <th>2</th>\n",
       "      <td>US</td>\n",
       "      <td>0.119547</td>\n",
       "      <td>1.0</td>\n",
       "      <td>0.500459</td>\n",
       "      <td>0.499541</td>\n",
       "      <td>0.0</td>\n",
       "      <td>0.0</td>\n",
       "      <td>1.0</td>\n",
       "    </tr>\n",
       "  </tbody>\n",
       "</table>\n",
       "</div>"
      ],
      "text/plain": [
       "  country  converted  intercept   ab_page   control   CA   UK   US\n",
       "0      CA   0.115318        1.0  0.503552  0.496448  1.0  0.0  0.0\n",
       "1      UK   0.120594        1.0  0.498247  0.501753  0.0  1.0  0.0\n",
       "2      US   0.119547        1.0  0.500459  0.499541  0.0  0.0  1.0"
      ]
     },
     "execution_count": 89,
     "metadata": {},
     "output_type": "execute_result"
    }
   ],
   "source": [
    "df_new.groupby(['country'], as_index=False).mean()"
   ]
  },
  {
   "cell_type": "code",
   "execution_count": 96,
   "metadata": {},
   "outputs": [
    {
     "name": "stdout",
     "output_type": "stream",
     "text": [
      "Optimization terminated successfully.\n",
      "         Current function value: 0.366113\n",
      "         Iterations 6\n"
     ]
    },
    {
     "data": {
      "text/html": [
       "<table class=\"simpletable\">\n",
       "<caption>Logit Regression Results</caption>\n",
       "<tr>\n",
       "  <th>Dep. Variable:</th>       <td>converted</td>    <th>  No. Observations:  </th>   <td>290584</td>   \n",
       "</tr>\n",
       "<tr>\n",
       "  <th>Model:</th>                 <td>Logit</td>      <th>  Df Residuals:      </th>   <td>290580</td>   \n",
       "</tr>\n",
       "<tr>\n",
       "  <th>Method:</th>                 <td>MLE</td>       <th>  Df Model:          </th>   <td>     3</td>   \n",
       "</tr>\n",
       "<tr>\n",
       "  <th>Date:</th>            <td>Mon, 22 Mar 2021</td> <th>  Pseudo R-squ.:     </th>  <td>2.323e-05</td> \n",
       "</tr>\n",
       "<tr>\n",
       "  <th>Time:</th>                <td>23:20:48</td>     <th>  Log-Likelihood:    </th> <td>-1.0639e+05</td>\n",
       "</tr>\n",
       "<tr>\n",
       "  <th>converged:</th>             <td>True</td>       <th>  LL-Null:           </th> <td>-1.0639e+05</td>\n",
       "</tr>\n",
       "<tr>\n",
       "  <th>Covariance Type:</th>     <td>nonrobust</td>    <th>  LLR p-value:       </th>   <td>0.1760</td>   \n",
       "</tr>\n",
       "</table>\n",
       "<table class=\"simpletable\">\n",
       "<tr>\n",
       "      <td></td>         <th>coef</th>     <th>std err</th>      <th>z</th>      <th>P>|z|</th>  <th>[0.025</th>    <th>0.975]</th>  \n",
       "</tr>\n",
       "<tr>\n",
       "  <th>intercept</th> <td>   -2.0300</td> <td>    0.027</td> <td>  -76.249</td> <td> 0.000</td> <td>   -2.082</td> <td>   -1.978</td>\n",
       "</tr>\n",
       "<tr>\n",
       "  <th>ab_page</th>   <td>   -0.0149</td> <td>    0.011</td> <td>   -1.307</td> <td> 0.191</td> <td>   -0.037</td> <td>    0.007</td>\n",
       "</tr>\n",
       "<tr>\n",
       "  <th>UK</th>        <td>    0.0506</td> <td>    0.028</td> <td>    1.784</td> <td> 0.074</td> <td>   -0.005</td> <td>    0.106</td>\n",
       "</tr>\n",
       "<tr>\n",
       "  <th>US</th>        <td>    0.0408</td> <td>    0.027</td> <td>    1.516</td> <td> 0.130</td> <td>   -0.012</td> <td>    0.093</td>\n",
       "</tr>\n",
       "</table>"
      ],
      "text/plain": [
       "<class 'statsmodels.iolib.summary.Summary'>\n",
       "\"\"\"\n",
       "                           Logit Regression Results                           \n",
       "==============================================================================\n",
       "Dep. Variable:              converted   No. Observations:               290584\n",
       "Model:                          Logit   Df Residuals:                   290580\n",
       "Method:                           MLE   Df Model:                            3\n",
       "Date:                Mon, 22 Mar 2021   Pseudo R-squ.:               2.323e-05\n",
       "Time:                        23:20:48   Log-Likelihood:            -1.0639e+05\n",
       "converged:                       True   LL-Null:                   -1.0639e+05\n",
       "Covariance Type:            nonrobust   LLR p-value:                    0.1760\n",
       "==============================================================================\n",
       "                 coef    std err          z      P>|z|      [0.025      0.975]\n",
       "------------------------------------------------------------------------------\n",
       "intercept     -2.0300      0.027    -76.249      0.000      -2.082      -1.978\n",
       "ab_page       -0.0149      0.011     -1.307      0.191      -0.037       0.007\n",
       "UK             0.0506      0.028      1.784      0.074      -0.005       0.106\n",
       "US             0.0408      0.027      1.516      0.130      -0.012       0.093\n",
       "==============================================================================\n",
       "\"\"\""
      ]
     },
     "execution_count": 96,
     "metadata": {},
     "output_type": "execute_result"
    }
   ],
   "source": [
    "#Fit Regression Model And Obtain the Results\n",
    "\n",
    "df_new['intercept'] = 1\n",
    "\n",
    "lm = sm.Logit(df_new['converted'],df_new[['intercept','ab_page','UK','US']])\n",
    "results = lm.fit()\n",
    "results.summary()"
   ]
  },
  {
   "cell_type": "code",
   "execution_count": 97,
   "metadata": {},
   "outputs": [
    {
     "data": {
      "text/plain": [
       "(1.0519020483004984, 1.0416437559600236)"
      ]
     },
     "execution_count": 97,
     "metadata": {},
     "output_type": "execute_result"
    }
   ],
   "source": [
    "np.exp(0.0506), np.exp(0.0408)\n",
    "\n",
    "#Compared to Canada, the UK are 1.05 more likely to convert \n",
    "#Compared to Canada, the US are 1.04 more likely to convert"
   ]
  },
  {
   "cell_type": "markdown",
   "metadata": {},
   "source": [
    "h. Though you have now looked at the individual factors of country and page on conversion, we would now like to look at an interaction between page and country to see if there significant effects on conversion.  Create the necessary additional columns, and fit the new model.  \n",
    "\n"
   ]
  },
  {
   "cell_type": "code",
   "execution_count": 91,
   "metadata": {},
   "outputs": [
    {
     "data": {
      "text/html": [
       "<div>\n",
       "<style scoped>\n",
       "    .dataframe tbody tr th:only-of-type {\n",
       "        vertical-align: middle;\n",
       "    }\n",
       "\n",
       "    .dataframe tbody tr th {\n",
       "        vertical-align: top;\n",
       "    }\n",
       "\n",
       "    .dataframe thead th {\n",
       "        text-align: right;\n",
       "    }\n",
       "</style>\n",
       "<table border=\"1\" class=\"dataframe\">\n",
       "  <thead>\n",
       "    <tr style=\"text-align: right;\">\n",
       "      <th></th>\n",
       "      <th>country</th>\n",
       "      <th>ab_page</th>\n",
       "      <th>converted</th>\n",
       "      <th>intercept</th>\n",
       "      <th>control</th>\n",
       "      <th>CA</th>\n",
       "      <th>UK</th>\n",
       "      <th>US</th>\n",
       "    </tr>\n",
       "  </thead>\n",
       "  <tbody>\n",
       "    <tr>\n",
       "      <th>0</th>\n",
       "      <td>CA</td>\n",
       "      <td>0</td>\n",
       "      <td>0.118783</td>\n",
       "      <td>1.0</td>\n",
       "      <td>1</td>\n",
       "      <td>1</td>\n",
       "      <td>0</td>\n",
       "      <td>0</td>\n",
       "    </tr>\n",
       "    <tr>\n",
       "      <th>1</th>\n",
       "      <td>CA</td>\n",
       "      <td>1</td>\n",
       "      <td>0.111902</td>\n",
       "      <td>1.0</td>\n",
       "      <td>0</td>\n",
       "      <td>1</td>\n",
       "      <td>0</td>\n",
       "      <td>0</td>\n",
       "    </tr>\n",
       "    <tr>\n",
       "      <th>2</th>\n",
       "      <td>UK</td>\n",
       "      <td>0</td>\n",
       "      <td>0.120022</td>\n",
       "      <td>1.0</td>\n",
       "      <td>1</td>\n",
       "      <td>0</td>\n",
       "      <td>1</td>\n",
       "      <td>0</td>\n",
       "    </tr>\n",
       "    <tr>\n",
       "      <th>3</th>\n",
       "      <td>UK</td>\n",
       "      <td>1</td>\n",
       "      <td>0.121171</td>\n",
       "      <td>1.0</td>\n",
       "      <td>0</td>\n",
       "      <td>0</td>\n",
       "      <td>1</td>\n",
       "      <td>0</td>\n",
       "    </tr>\n",
       "    <tr>\n",
       "      <th>4</th>\n",
       "      <td>US</td>\n",
       "      <td>0</td>\n",
       "      <td>0.120630</td>\n",
       "      <td>1.0</td>\n",
       "      <td>1</td>\n",
       "      <td>0</td>\n",
       "      <td>0</td>\n",
       "      <td>1</td>\n",
       "    </tr>\n",
       "    <tr>\n",
       "      <th>5</th>\n",
       "      <td>US</td>\n",
       "      <td>1</td>\n",
       "      <td>0.118466</td>\n",
       "      <td>1.0</td>\n",
       "      <td>0</td>\n",
       "      <td>0</td>\n",
       "      <td>0</td>\n",
       "      <td>1</td>\n",
       "    </tr>\n",
       "  </tbody>\n",
       "</table>\n",
       "</div>"
      ],
      "text/plain": [
       "  country  ab_page  converted  intercept  control  CA  UK  US\n",
       "0      CA        0   0.118783        1.0        1   1   0   0\n",
       "1      CA        1   0.111902        1.0        0   1   0   0\n",
       "2      UK        0   0.120022        1.0        1   0   1   0\n",
       "3      UK        1   0.121171        1.0        0   0   1   0\n",
       "4      US        0   0.120630        1.0        1   0   0   1\n",
       "5      US        1   0.118466        1.0        0   0   0   1"
      ]
     },
     "execution_count": 91,
     "metadata": {},
     "output_type": "execute_result"
    }
   ],
   "source": [
    "#mean conversion rate by country and landing_page - \n",
    "#checking for possible interactions (whether the influence of landing_page\n",
    "#is different for the countries)\n",
    "\n",
    "df_new.groupby(['country','ab_page'], as_index=False).mean()"
   ]
  },
  {
   "cell_type": "code",
   "execution_count": 92,
   "metadata": {},
   "outputs": [
    {
     "data": {
      "text/html": [
       "<div>\n",
       "<style scoped>\n",
       "    .dataframe tbody tr th:only-of-type {\n",
       "        vertical-align: middle;\n",
       "    }\n",
       "\n",
       "    .dataframe tbody tr th {\n",
       "        vertical-align: top;\n",
       "    }\n",
       "\n",
       "    .dataframe thead th {\n",
       "        text-align: right;\n",
       "    }\n",
       "</style>\n",
       "<table border=\"1\" class=\"dataframe\">\n",
       "  <thead>\n",
       "    <tr style=\"text-align: right;\">\n",
       "      <th></th>\n",
       "      <th>country</th>\n",
       "      <th>timestamp</th>\n",
       "      <th>group</th>\n",
       "      <th>landing_page</th>\n",
       "      <th>converted</th>\n",
       "      <th>intercept</th>\n",
       "      <th>ab_page</th>\n",
       "      <th>control</th>\n",
       "      <th>CA</th>\n",
       "      <th>UK</th>\n",
       "      <th>US</th>\n",
       "      <th>interaction_us_ab_page</th>\n",
       "      <th>interaction_ca_ab_page</th>\n",
       "    </tr>\n",
       "    <tr>\n",
       "      <th>user_id</th>\n",
       "      <th></th>\n",
       "      <th></th>\n",
       "      <th></th>\n",
       "      <th></th>\n",
       "      <th></th>\n",
       "      <th></th>\n",
       "      <th></th>\n",
       "      <th></th>\n",
       "      <th></th>\n",
       "      <th></th>\n",
       "      <th></th>\n",
       "      <th></th>\n",
       "      <th></th>\n",
       "    </tr>\n",
       "  </thead>\n",
       "  <tbody>\n",
       "    <tr>\n",
       "      <th>834778</th>\n",
       "      <td>UK</td>\n",
       "      <td>2017-01-14 23:08:43.304998</td>\n",
       "      <td>control</td>\n",
       "      <td>old_page</td>\n",
       "      <td>0</td>\n",
       "      <td>1</td>\n",
       "      <td>0</td>\n",
       "      <td>1</td>\n",
       "      <td>0</td>\n",
       "      <td>1</td>\n",
       "      <td>0</td>\n",
       "      <td>0</td>\n",
       "      <td>0</td>\n",
       "    </tr>\n",
       "    <tr>\n",
       "      <th>928468</th>\n",
       "      <td>US</td>\n",
       "      <td>2017-01-23 14:44:16.387854</td>\n",
       "      <td>treatment</td>\n",
       "      <td>new_page</td>\n",
       "      <td>0</td>\n",
       "      <td>1</td>\n",
       "      <td>1</td>\n",
       "      <td>0</td>\n",
       "      <td>0</td>\n",
       "      <td>0</td>\n",
       "      <td>1</td>\n",
       "      <td>1</td>\n",
       "      <td>0</td>\n",
       "    </tr>\n",
       "    <tr>\n",
       "      <th>822059</th>\n",
       "      <td>UK</td>\n",
       "      <td>2017-01-16 14:04:14.719771</td>\n",
       "      <td>treatment</td>\n",
       "      <td>new_page</td>\n",
       "      <td>1</td>\n",
       "      <td>1</td>\n",
       "      <td>1</td>\n",
       "      <td>0</td>\n",
       "      <td>0</td>\n",
       "      <td>1</td>\n",
       "      <td>0</td>\n",
       "      <td>0</td>\n",
       "      <td>0</td>\n",
       "    </tr>\n",
       "    <tr>\n",
       "      <th>711597</th>\n",
       "      <td>UK</td>\n",
       "      <td>2017-01-22 03:14:24.763511</td>\n",
       "      <td>control</td>\n",
       "      <td>old_page</td>\n",
       "      <td>0</td>\n",
       "      <td>1</td>\n",
       "      <td>0</td>\n",
       "      <td>1</td>\n",
       "      <td>0</td>\n",
       "      <td>1</td>\n",
       "      <td>0</td>\n",
       "      <td>0</td>\n",
       "      <td>0</td>\n",
       "    </tr>\n",
       "    <tr>\n",
       "      <th>710616</th>\n",
       "      <td>UK</td>\n",
       "      <td>2017-01-16 13:14:44.000513</td>\n",
       "      <td>treatment</td>\n",
       "      <td>new_page</td>\n",
       "      <td>0</td>\n",
       "      <td>1</td>\n",
       "      <td>1</td>\n",
       "      <td>0</td>\n",
       "      <td>0</td>\n",
       "      <td>1</td>\n",
       "      <td>0</td>\n",
       "      <td>0</td>\n",
       "      <td>0</td>\n",
       "    </tr>\n",
       "  </tbody>\n",
       "</table>\n",
       "</div>"
      ],
      "text/plain": [
       "        country                   timestamp      group landing_page  \\\n",
       "user_id                                                               \n",
       "834778       UK  2017-01-14 23:08:43.304998    control     old_page   \n",
       "928468       US  2017-01-23 14:44:16.387854  treatment     new_page   \n",
       "822059       UK  2017-01-16 14:04:14.719771  treatment     new_page   \n",
       "711597       UK  2017-01-22 03:14:24.763511    control     old_page   \n",
       "710616       UK  2017-01-16 13:14:44.000513  treatment     new_page   \n",
       "\n",
       "         converted  intercept  ab_page  control  CA  UK  US  \\\n",
       "user_id                                                       \n",
       "834778           0          1        0        1   0   1   0   \n",
       "928468           0          1        1        0   0   0   1   \n",
       "822059           1          1        1        0   0   1   0   \n",
       "711597           0          1        0        1   0   1   0   \n",
       "710616           0          1        1        0   0   1   0   \n",
       "\n",
       "         interaction_us_ab_page  interaction_ca_ab_page  \n",
       "user_id                                                  \n",
       "834778                        0                       0  \n",
       "928468                        1                       0  \n",
       "822059                        0                       0  \n",
       "711597                        0                       0  \n",
       "710616                        0                       0  "
      ]
     },
     "execution_count": 92,
     "metadata": {},
     "output_type": "execute_result"
    }
   ],
   "source": [
    "df_new.head()\n",
    "df_new['interaction_us_ab_page'] = df_new.US *df_new.ab_page\n",
    "df_new['interaction_ca_ab_page'] = df_new.CA *df_new.ab_page\n",
    "\n",
    "df_new.head()"
   ]
  },
  {
   "cell_type": "code",
   "execution_count": 93,
   "metadata": {},
   "outputs": [
    {
     "name": "stdout",
     "output_type": "stream",
     "text": [
      "Optimization terminated successfully.\n",
      "         Current function value: 0.366113\n",
      "         Iterations 6\n"
     ]
    },
    {
     "data": {
      "text/html": [
       "<table class=\"simpletable\">\n",
       "<caption>Logit Regression Results</caption>\n",
       "<tr>\n",
       "  <th>Dep. Variable:</th>       <td>converted</td>    <th>  No. Observations:  </th>   <td>290584</td>   \n",
       "</tr>\n",
       "<tr>\n",
       "  <th>Model:</th>                 <td>Logit</td>      <th>  Df Residuals:      </th>   <td>290580</td>   \n",
       "</tr>\n",
       "<tr>\n",
       "  <th>Method:</th>                 <td>MLE</td>       <th>  Df Model:          </th>   <td>     3</td>   \n",
       "</tr>\n",
       "<tr>\n",
       "  <th>Date:</th>            <td>Mon, 22 Mar 2021</td> <th>  Pseudo R-squ.:     </th>  <td>2.323e-05</td> \n",
       "</tr>\n",
       "<tr>\n",
       "  <th>Time:</th>                <td>23:15:42</td>     <th>  Log-Likelihood:    </th> <td>-1.0639e+05</td>\n",
       "</tr>\n",
       "<tr>\n",
       "  <th>converged:</th>             <td>True</td>       <th>  LL-Null:           </th> <td>-1.0639e+05</td>\n",
       "</tr>\n",
       "<tr>\n",
       "  <th>Covariance Type:</th>     <td>nonrobust</td>    <th>  LLR p-value:       </th>   <td>0.1760</td>   \n",
       "</tr>\n",
       "</table>\n",
       "<table class=\"simpletable\">\n",
       "<tr>\n",
       "      <td></td>         <th>coef</th>     <th>std err</th>      <th>z</th>      <th>P>|z|</th>  <th>[0.025</th>    <th>0.975]</th>  \n",
       "</tr>\n",
       "<tr>\n",
       "  <th>intercept</th> <td>   -1.9794</td> <td>    0.013</td> <td> -155.415</td> <td> 0.000</td> <td>   -2.004</td> <td>   -1.954</td>\n",
       "</tr>\n",
       "<tr>\n",
       "  <th>CA</th>        <td>   -0.0506</td> <td>    0.028</td> <td>   -1.784</td> <td> 0.074</td> <td>   -0.106</td> <td>    0.005</td>\n",
       "</tr>\n",
       "<tr>\n",
       "  <th>US</th>        <td>   -0.0099</td> <td>    0.013</td> <td>   -0.743</td> <td> 0.457</td> <td>   -0.036</td> <td>    0.016</td>\n",
       "</tr>\n",
       "<tr>\n",
       "  <th>ab_page</th>   <td>   -0.0149</td> <td>    0.011</td> <td>   -1.307</td> <td> 0.191</td> <td>   -0.037</td> <td>    0.007</td>\n",
       "</tr>\n",
       "</table>"
      ],
      "text/plain": [
       "<class 'statsmodels.iolib.summary.Summary'>\n",
       "\"\"\"\n",
       "                           Logit Regression Results                           \n",
       "==============================================================================\n",
       "Dep. Variable:              converted   No. Observations:               290584\n",
       "Model:                          Logit   Df Residuals:                   290580\n",
       "Method:                           MLE   Df Model:                            3\n",
       "Date:                Mon, 22 Mar 2021   Pseudo R-squ.:               2.323e-05\n",
       "Time:                        23:15:42   Log-Likelihood:            -1.0639e+05\n",
       "converged:                       True   LL-Null:                   -1.0639e+05\n",
       "Covariance Type:            nonrobust   LLR p-value:                    0.1760\n",
       "==============================================================================\n",
       "                 coef    std err          z      P>|z|      [0.025      0.975]\n",
       "------------------------------------------------------------------------------\n",
       "intercept     -1.9794      0.013   -155.415      0.000      -2.004      -1.954\n",
       "CA            -0.0506      0.028     -1.784      0.074      -0.106       0.005\n",
       "US            -0.0099      0.013     -0.743      0.457      -0.036       0.016\n",
       "ab_page       -0.0149      0.011     -1.307      0.191      -0.037       0.007\n",
       "==============================================================================\n",
       "\"\"\""
      ]
     },
     "execution_count": 93,
     "metadata": {},
     "output_type": "execute_result"
    }
   ],
   "source": [
    "### Fit Your Regression Model And Obtain the Results\n",
    "mod = sm.Logit(df_new['converted'], df_new[['intercept', 'CA', 'US','ab_page']])\n",
    "results = mod.fit()\n",
    "results.summary()"
   ]
  },
  {
   "cell_type": "markdown",
   "metadata": {},
   "source": [
    "#### Answer\n",
    "The p-values for all countries are higher than 0.05, therefore, there are no significant effects on the conversion between page and country. "
   ]
  },
  {
   "cell_type": "markdown",
   "metadata": {},
   "source": []
  },
  {
   "cell_type": "code",
   "execution_count": null,
   "metadata": {},
   "outputs": [],
   "source": [
    "from subprocess import call\n",
    "call(['python', '-m', 'nbconvert', 'Analyze_ab_test_results_notebook.ipynb'])"
   ]
  },
  {
   "cell_type": "markdown",
   "metadata": {},
   "source": [
    "### Conclusions\n",
    "In conclusion, there is not enough evidence to reject the null hyptothesis and therefore, there are not more new page conversions compared to the old one. This evidence is shown on the probability figures, A/B test and regression models. There is no strong evidence to say that the countries (US, CA, or UK) influence the conversion rate. New features for the new page may be tested in order to get better conversion rates than the old page. "
   ]
  }
 ],
 "metadata": {
  "kernelspec": {
   "display_name": "Python 3",
   "language": "python",
   "name": "python3"
  },
  "language_info": {
   "codemirror_mode": {
    "name": "ipython",
    "version": 3
   },
   "file_extension": ".py",
   "mimetype": "text/x-python",
   "name": "python",
   "nbconvert_exporter": "python",
   "pygments_lexer": "ipython3",
   "version": "3.8.5"
  }
 },
 "nbformat": 4,
 "nbformat_minor": 2
}
